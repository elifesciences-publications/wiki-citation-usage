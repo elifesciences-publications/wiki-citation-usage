{
 "cells": [
  {
   "cell_type": "markdown",
   "metadata": {},
   "source": [
    "# Load externallinks Data\n",
    "- data source: SQL dumps of externallinks table from 20190401 and 20190420\n",
    "- data filtered down to el_id, el_from, el_to columns\n",
    "- calculate rate of change between two dates\n",
    "- populate `population_externallinks` table\n",
    "- report static counts of external links for W and WP:M pages"
   ]
  },
  {
   "cell_type": "code",
   "execution_count": 1,
   "metadata": {},
   "outputs": [],
   "source": [
    "# basic defaults, including study dates, common SQL exclusions and parquet files for anonymized data\n",
    "%run -i 'data-defaults.py'"
   ]
  },
  {
   "cell_type": "markdown",
   "metadata": {},
   "source": [
    "### Load dump files to HDFS"
   ]
  },
  {
   "cell_type": "code",
   "execution_count": 2,
   "metadata": {},
   "outputs": [],
   "source": [
    "dates = ['20190401','20190420']"
   ]
  },
  {
   "cell_type": "code",
   "execution_count": 3,
   "metadata": {},
   "outputs": [],
   "source": [
    "for d in dates:\n",
    "    !hdfs dfs -put ~/dumps/ext\"$d\" externallinks_from_dump_\"$d\""
   ]
  },
  {
   "cell_type": "markdown",
   "metadata": {},
   "source": [
    "### Create schema"
   ]
  },
  {
   "cell_type": "code",
   "execution_count": 6,
   "metadata": {},
   "outputs": [],
   "source": [
    "\n",
    "create = \"\"\"\n",
    "CREATE TABLE IF NOT EXISTS ryanmax.externallinks_from_dump_{} ( el_id bigint, el_from bigint, el_to String)\n",
    "ROW FORMAT DELIMITED\n",
    "FIELDS TERMINATED BY '\\t'\n",
    "LINES TERMINATED BY '\\n'\n",
    "STORED AS TEXTFILE\n",
    "TBLPROPERTIES(\"skip.header.line.count\"=\"1\")\n",
    "\"\"\"\n",
    "\n",
    "load = \"\"\"\n",
    "LOAD DATA INPATH 'externallinks_from_dump_{}' OVERWRITE INTO TABLE ryanmax.externallinks_from_dump_{}\n",
    "\"\"\"\n",
    "\n",
    "for d in dates:\n",
    "    sqlContext.sql(create.format(d))\n",
    "    sqlContext.sql(load.format(d,d))\n",
    "    "
   ]
  },
  {
   "cell_type": "code",
   "execution_count": 7,
   "metadata": {},
   "outputs": [
    {
     "name": "stdout",
     "output_type": "stream",
     "text": [
      "+---------+---------+\n",
      "|dump_date|num_links|\n",
      "+---------+---------+\n",
      "| 20190401|111849403|\n",
      "+---------+---------+\n",
      "\n",
      "+---------+---------+\n",
      "|dump_date|num_links|\n",
      "+---------+---------+\n",
      "| 20190420|112392445|\n",
      "+---------+---------+\n",
      "\n"
     ]
    }
   ],
   "source": [
    "# data check\n",
    "for d in dates:\n",
    "    spark.sql(\"SELECT '{}' as dump_date, count(distinct el_from, el_to) as num_links FROM ryanmax.externallinks_from_dump_{}\".format(d,d)).show()\n",
    "    "
   ]
  },
  {
   "cell_type": "code",
   "execution_count": 8,
   "metadata": {},
   "outputs": [
    {
     "data": {
      "text/plain": [
       "DataFrame[]"
      ]
     },
     "execution_count": 8,
     "metadata": {},
     "output_type": "execute_result"
    }
   ],
   "source": [
    "# write data to a single table with a date column\n",
    "links_rdd = sc.emptyRDD()\n",
    "for d in dates:\n",
    "    links = spark.sql(\"SELECT '{}' as dump_date, * FROM ryanmax.externallinks_from_dump_{}\".format(d,d))\n",
    "    links_rdd = links_rdd.union(links.rdd)\n",
    "\n",
    "# write links data to a table for later use\n",
    "links_merged = sqlContext.createDataFrame(links_rdd)\n",
    "links_merged.createOrReplaceTempView(\"temp_externallinks\")\n",
    "sqlContext.sql(\"DROP TABLE IF EXISTS ryanmax.externallinks\")\n",
    "sqlContext.sql(\"CREATE TABLE ryanmax.externallinks AS SELECT * FROM temp_externallinks\")"
   ]
  },
  {
   "cell_type": "code",
   "execution_count": 9,
   "metadata": {},
   "outputs": [
    {
     "name": "stdout",
     "output_type": "stream",
     "text": [
      "Rate of change:  0.00485511755481\n"
     ]
    },
    {
     "data": {
      "text/html": [
       "<div>\n",
       "<table border=\"1\" class=\"dataframe\">\n",
       "  <thead>\n",
       "    <tr style=\"text-align: right;\">\n",
       "      <th></th>\n",
       "      <th>dump_date</th>\n",
       "      <th>num_links</th>\n",
       "    </tr>\n",
       "  </thead>\n",
       "  <tbody>\n",
       "    <tr>\n",
       "      <th>0</th>\n",
       "      <td>20190401</td>\n",
       "      <td>111849403</td>\n",
       "    </tr>\n",
       "    <tr>\n",
       "      <th>1</th>\n",
       "      <td>20190420</td>\n",
       "      <td>112392445</td>\n",
       "    </tr>\n",
       "  </tbody>\n",
       "</table>\n",
       "</div>"
      ],
      "text/plain": [
       "  dump_date  num_links\n",
       "0  20190401  111849403\n",
       "1  20190420  112392445"
      ]
     },
     "execution_count": 9,
     "metadata": {},
     "output_type": "execute_result"
    }
   ],
   "source": [
    "# show rate of change between dump dates\n",
    "q = \"\"\"\n",
    "SELECT dump_date, count(distinct el_from, el_to) as num_links \n",
    "FROM ryanmax.externallinks \n",
    "GROUP BY dump_date\n",
    "ORDER BY dump_date\n",
    "\"\"\"\n",
    "extlinks = spark.sql(q)\n",
    "extlinks_pd = sqlContext.createDataFrame(extlinks.rdd).toPandas()\n",
    "print('Rate of change: ',(extlinks_pd['num_links'][1] - extlinks_pd['num_links'][0])/extlinks_pd['num_links'][0])\n",
    "extlinks_pd"
   ]
  },
  {
   "cell_type": "markdown",
   "metadata": {},
   "source": [
    "### Create population_externallinks table to be used for the rest of the study"
   ]
  },
  {
   "cell_type": "code",
   "execution_count": 11,
   "metadata": {},
   "outputs": [
    {
     "name": "stdout",
     "output_type": "stream",
     "text": [
      "+---------+\n",
      "|num_links|\n",
      "+---------+\n",
      "|112392445|\n",
      "+---------+\n",
      "\n"
     ]
    }
   ],
   "source": [
    "# write 20190420 data to a single \"population\" table\n",
    "links_rdd = sc.emptyRDD()\n",
    "links = spark.sql(\"SELECT * FROM ryanmax.externallinks_from_dump_20190420\")\n",
    "links_rdd = links_rdd.union(links.rdd)\n",
    "\n",
    "# write links data to a table for later use\n",
    "links_df = sqlContext.createDataFrame(links.rdd)\n",
    "links_df.createOrReplaceTempView(\"temp_population_externallinks\")\n",
    "sqlContext.sql(\"DROP TABLE IF EXISTS ryanmax.population_externallinks\")\n",
    "sqlContext.sql(\"CREATE TABLE ryanmax.population_externallinks AS SELECT * FROM temp_population_externallinks\")\n",
    "\n",
    "# report number of links for sanity\n",
    "spark.sql(\"SELECT count(distinct el_from, el_to) as num_links FROM ryanmax.population_externallinks\").show()\n"
   ]
  },
  {
   "cell_type": "markdown",
   "metadata": {},
   "source": [
    "### Count of external links for W\n",
    "- sum distinct links per page"
   ]
  },
  {
   "cell_type": "code",
   "execution_count": 2,
   "metadata": {},
   "outputs": [
    {
     "data": {
      "text/html": [
       "<div>\n",
       "<table border=\"1\" class=\"dataframe\">\n",
       "  <thead>\n",
       "    <tr style=\"text-align: right;\">\n",
       "      <th></th>\n",
       "      <th>w_num_externallinks</th>\n",
       "    </tr>\n",
       "  </thead>\n",
       "  <tbody>\n",
       "    <tr>\n",
       "      <th>0</th>\n",
       "      <td>60851396</td>\n",
       "    </tr>\n",
       "  </tbody>\n",
       "</table>\n",
       "</div>"
      ],
      "text/plain": [
       "   w_num_externallinks\n",
       "0             60851396"
      ]
     },
     "execution_count": 2,
     "metadata": {},
     "output_type": "execute_result"
    }
   ],
   "source": [
    "q = \"\"\"\n",
    "SELECT count(distinct el_from, el_to) as w_num_externallinks \n",
    "FROM ryanmax.population_externallinks\n",
    "WHERE el_from IN (SELECT page_id FROM ryanmax.population_w_pages_with_extlinks)\n",
    "\"\"\"\n",
    "spark.sql(q).toPandas()"
   ]
  },
  {
   "cell_type": "markdown",
   "metadata": {},
   "source": [
    "### Count of external links for WP:M\n",
    "- sum distinct links per page"
   ]
  },
  {
   "cell_type": "code",
   "execution_count": 3,
   "metadata": {},
   "outputs": [
    {
     "data": {
      "text/html": [
       "<div>\n",
       "<table border=\"1\" class=\"dataframe\">\n",
       "  <thead>\n",
       "    <tr style=\"text-align: right;\">\n",
       "      <th></th>\n",
       "      <th>wpm_num_externallinks</th>\n",
       "    </tr>\n",
       "  </thead>\n",
       "  <tbody>\n",
       "    <tr>\n",
       "      <th>0</th>\n",
       "      <td>945645</td>\n",
       "    </tr>\n",
       "  </tbody>\n",
       "</table>\n",
       "</div>"
      ],
      "text/plain": [
       "   wpm_num_externallinks\n",
       "0                 945645"
      ]
     },
     "execution_count": 3,
     "metadata": {},
     "output_type": "execute_result"
    }
   ],
   "source": [
    "q = \"\"\"\n",
    "SELECT count(distinct el_from, el_to) as wpm_num_externallinks \n",
    "FROM ryanmax.population_externallinks\n",
    "WHERE el_from IN (SELECT page_id FROM ryanmax.population_wpm_pages_with_extlinks)\n",
    "\"\"\"\n",
    "spark.sql(q).toPandas()"
   ]
  },
  {
   "cell_type": "code",
   "execution_count": null,
   "metadata": {},
   "outputs": [],
   "source": []
  }
 ],
 "metadata": {
  "kernelspec": {
   "display_name": "PySpark - YARN",
   "language": "python",
   "name": "spark_yarn_pyspark"
  },
  "language_info": {
   "codemirror_mode": {
    "name": "ipython",
    "version": 3
   },
   "file_extension": ".py",
   "mimetype": "text/x-python",
   "name": "python",
   "nbconvert_exporter": "python",
   "pygments_lexer": "ipython3",
   "version": "3.5.3"
  }
 },
 "nbformat": 4,
 "nbformat_minor": 2
}
