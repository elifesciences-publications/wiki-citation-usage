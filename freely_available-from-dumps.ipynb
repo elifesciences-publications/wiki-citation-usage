{
 "cells": [
  {
   "cell_type": "code",
   "execution_count": 1,
   "metadata": {},
   "outputs": [],
   "source": [
    "import pyspark\n",
    "import re\n",
    "import pyspark.sql\n",
    "from pyspark.sql import *\n",
    "import pandas as pd\n",
    "import matplotlib.pyplot as plt\n",
    "import hashlib\n",
    "import os.path\n",
    "from pyspark.sql.functions import desc\n",
    "from datetime import timedelta, date\n",
    "from pyspark import *\n",
    "\n",
    "%matplotlib inline\n",
    "spark_hive = pyspark.sql.HiveContext(sc)\n"
   ]
  },
  {
   "cell_type": "code",
   "execution_count": 2,
   "metadata": {},
   "outputs": [],
   "source": [
    "WIKIPEDIA_XML_DUMP = 'enwiki-20190420-pages-articles-multistream.xml.bz2'\n",
    "\n",
    "FREE_REGEX = re.compile(r'((pmc|arxiv|citeseerx|biorxiv|rfc|ssrn) ?= ?\\w)|((doi|hdl|bibcode|ol|jstor|osti)-access ?= ?free)', re.IGNORECASE | re.DOTALL)\n",
    "\n",
    "def count_free_links(entity):\n",
    "    page_text = entity.revision.text._VALUE\n",
    "    count = len(FREE_REGEX.findall(page_text))\n",
    "    return Row(page_id=entity.id, free_links=count)\n",
    "\n",
    "wikipedia = sqlContext.read.format('com.databricks.spark.xml').options(rowTag='page').load(WIKIPEDIA_XML_DUMP)\n",
    "\n",
    "articles = wikipedia\\\n",
    "    .filter(\"ns = '0'\")\\\n",
    "    .filter(\"redirect._title is null\") \\\n",
    "    .filter(\"revision.text._VALUE is not null\") \\\n",
    "    .filter(\"length(revision.text._VALUE) > 0\")\n",
    "\n",
    "free_count = sqlContext.createDataFrame(articles.rdd.map(count_free_links))"
   ]
  },
  {
   "cell_type": "code",
   "execution_count": 3,
   "metadata": {},
   "outputs": [],
   "source": [
    "free_count_pandas = free_count.toPandas()"
   ]
  },
  {
   "cell_type": "code",
   "execution_count": 24,
   "metadata": {},
   "outputs": [
    {
     "data": {
      "text/plain": [
       "free_links             345147\n",
       "page_id       153564000517915\n",
       "dtype: int64"
      ]
     },
     "execution_count": 24,
     "metadata": {},
     "output_type": "execute_result"
    }
   ],
   "source": [
    "#free_count_pandas['free_links'].sum(axis=0)\n",
    "#free_count_pandas.loc[:,\"free_links\"].sum(axis=0)\n",
    "#print(free_count_pandas.loc[1:10 , ])\n",
    "free_count_pandas.sum(axis=0)\n",
    "\n"
   ]
  },
  {
   "cell_type": "code",
   "execution_count": 5,
   "metadata": {},
   "outputs": [
    {
     "data": {
      "text/html": [
       "<div>\n",
       "<table border=\"1\" class=\"dataframe\">\n",
       "  <thead>\n",
       "    <tr style=\"text-align: right;\">\n",
       "      <th></th>\n",
       "      <th>free_links</th>\n",
       "      <th>page_id</th>\n",
       "    </tr>\n",
       "  </thead>\n",
       "  <tbody>\n",
       "    <tr>\n",
       "      <th>5695</th>\n",
       "      <td>103</td>\n",
       "      <td>12024</td>\n",
       "    </tr>\n",
       "    <tr>\n",
       "      <th>13779</th>\n",
       "      <td>105</td>\n",
       "      <td>27680</td>\n",
       "    </tr>\n",
       "    <tr>\n",
       "      <th>90307</th>\n",
       "      <td>111</td>\n",
       "      <td>156964</td>\n",
       "    </tr>\n",
       "    <tr>\n",
       "      <th>563509</th>\n",
       "      <td>105</td>\n",
       "      <td>2146034</td>\n",
       "    </tr>\n",
       "    <tr>\n",
       "      <th>935589</th>\n",
       "      <td>157</td>\n",
       "      <td>4501641</td>\n",
       "    </tr>\n",
       "    <tr>\n",
       "      <th>1653370</th>\n",
       "      <td>137</td>\n",
       "      <td>11664498</td>\n",
       "    </tr>\n",
       "    <tr>\n",
       "      <th>1665387</th>\n",
       "      <td>109</td>\n",
       "      <td>11790568</td>\n",
       "    </tr>\n",
       "    <tr>\n",
       "      <th>1988503</th>\n",
       "      <td>104</td>\n",
       "      <td>14958673</td>\n",
       "    </tr>\n",
       "    <tr>\n",
       "      <th>2019036</th>\n",
       "      <td>135</td>\n",
       "      <td>15308316</td>\n",
       "    </tr>\n",
       "    <tr>\n",
       "      <th>3655450</th>\n",
       "      <td>155</td>\n",
       "      <td>33431450</td>\n",
       "    </tr>\n",
       "    <tr>\n",
       "      <th>3860448</th>\n",
       "      <td>115</td>\n",
       "      <td>35917093</td>\n",
       "    </tr>\n",
       "    <tr>\n",
       "      <th>3901350</th>\n",
       "      <td>175</td>\n",
       "      <td>36315057</td>\n",
       "    </tr>\n",
       "    <tr>\n",
       "      <th>5217832</th>\n",
       "      <td>119</td>\n",
       "      <td>52206193</td>\n",
       "    </tr>\n",
       "    <tr>\n",
       "      <th>5462003</th>\n",
       "      <td>139</td>\n",
       "      <td>55498066</td>\n",
       "    </tr>\n",
       "    <tr>\n",
       "      <th>5465712</th>\n",
       "      <td>151</td>\n",
       "      <td>55548805</td>\n",
       "    </tr>\n",
       "    <tr>\n",
       "      <th>5477432</th>\n",
       "      <td>159</td>\n",
       "      <td>55703377</td>\n",
       "    </tr>\n",
       "    <tr>\n",
       "      <th>5651300</th>\n",
       "      <td>101</td>\n",
       "      <td>57683681</td>\n",
       "    </tr>\n",
       "    <tr>\n",
       "      <th>5677396</th>\n",
       "      <td>122</td>\n",
       "      <td>58028935</td>\n",
       "    </tr>\n",
       "  </tbody>\n",
       "</table>\n",
       "</div>"
      ],
      "text/plain": [
       "         free_links   page_id\n",
       "5695            103     12024\n",
       "13779           105     27680\n",
       "90307           111    156964\n",
       "563509          105   2146034\n",
       "935589          157   4501641\n",
       "1653370         137  11664498\n",
       "1665387         109  11790568\n",
       "1988503         104  14958673\n",
       "2019036         135  15308316\n",
       "3655450         155  33431450\n",
       "3860448         115  35917093\n",
       "3901350         175  36315057\n",
       "5217832         119  52206193\n",
       "5462003         139  55498066\n",
       "5465712         151  55548805\n",
       "5477432         159  55703377\n",
       "5651300         101  57683681\n",
       "5677396         122  58028935"
      ]
     },
     "execution_count": 5,
     "metadata": {},
     "output_type": "execute_result"
    }
   ],
   "source": [
    "free_count_pandas.query('free_links>100')"
   ]
  },
  {
   "cell_type": "code",
   "execution_count": 25,
   "metadata": {},
   "outputs": [
    {
     "data": {
      "text/plain": [
       "DataFrame[]"
      ]
     },
     "execution_count": 25,
     "metadata": {},
     "output_type": "execute_result"
    }
   ],
   "source": [
    "# write free link counts data to a table for later use\n",
    "free_count.createOrReplaceTempView(\"temp_free_count\")\n",
    "sqlContext.sql(\"DROP TABLE IF EXISTS ryanmax.free_count\")\n",
    "sqlContext.sql(\"CREATE TABLE ryanmax.free_count AS SELECT * FROM temp_free_count\")"
   ]
  },
  {
   "cell_type": "code",
   "execution_count": 2,
   "metadata": {},
   "outputs": [],
   "source": [
    "# set date ranges for queries\n",
    "start_date = date(2019, 3, 29)\n",
    "end_date = date(2019, 4, 22)\n",
    "date_format = '%Y-%m-%d'\n",
    "start_date_string = start_date.strftime(date_format)\n",
    "end_date_string = end_date.strftime(date_format)"
   ]
  },
  {
   "cell_type": "code",
   "execution_count": 3,
   "metadata": {},
   "outputs": [
    {
     "name": "stdout",
     "output_type": "stream",
     "text": [
      "+----------------------+\n",
      "|freely_available_links|\n",
      "+----------------------+\n",
      "|                345144|\n",
      "+----------------------+\n",
      "\n"
     ]
    }
   ],
   "source": [
    "# Count of freely_available links in W pages w/ ext links\n",
    "w_free_query = \"\"\"\n",
    "SELECT sum(free_links) AS freely_available_links\n",
    "FROM \n",
    "    ryanmax.free_count\n",
    "WHERE page_id IN \n",
    "    (SELECT DISTINCT page_id \n",
    "    FROM ryanmax.pages_with_extlinks \n",
    "    WHERE to_date(dt) >= '{}' AND to_date(dt) <= '{}')\n",
    "\"\"\"\n",
    "\n",
    "w_free_links = spark.sql(w_free_query.format(start_date_string, end_date_string))\n",
    "w_free_links.show()"
   ]
  },
  {
   "cell_type": "code",
   "execution_count": 4,
   "metadata": {},
   "outputs": [
    {
     "name": "stdout",
     "output_type": "stream",
     "text": [
      "+----------------------+\n",
      "|freely_available_links|\n",
      "+----------------------+\n",
      "|                 52843|\n",
      "+----------------------+\n",
      "\n"
     ]
    }
   ],
   "source": [
    "# Count of freely_available links in WP:M pages w/ ext links\n",
    "pm_free_query = \"\"\"\n",
    "SELECT sum(free_links) AS freely_available_links\n",
    "FROM \n",
    "    ryanmax.free_count\n",
    "WHERE page_id IN \n",
    "    (SELECT DISTINCT page_id \n",
    "    FROM ryanmax.projmed_with_extlinks \n",
    "    WHERE to_date(dt) >= '{}' AND to_date(dt) <= '{}')\n",
    "\"\"\"\n",
    "\n",
    "pm_free_links = spark.sql(pm_free_query.format(start_date_string, end_date_string))\n",
    "pm_free_links.show()\n"
   ]
  },
  {
   "cell_type": "code",
   "execution_count": 5,
   "metadata": {},
   "outputs": [
    {
     "name": "stdout",
     "output_type": "stream",
     "text": [
      "+----------------------+\n",
      "|freely_available_links|\n",
      "+----------------------+\n",
      "|                292301|\n",
      "+----------------------+\n",
      "\n"
     ]
    }
   ],
   "source": [
    "# Count of freely_available links not in WP:M pages\n",
    "not_pm_free_query = \"\"\"\n",
    "SELECT sum(free_links) AS freely_available_links\n",
    "FROM \n",
    "    ryanmax.free_count\n",
    "WHERE page_id IN \n",
    "    (SELECT DISTINCT page_id \n",
    "    FROM ryanmax.pages_with_extlinks \n",
    "    WHERE to_date(dt) >= '{}' AND to_date(dt) <= '{}')\n",
    "    AND page_id NOT IN \n",
    "    (SELECT DISTINCT page_id \n",
    "    FROM ryanmax.projmed_with_extlinks \n",
    "    WHERE to_date(dt) >= '{}' AND to_date(dt) <= '{}')\n",
    "\"\"\"\n",
    "\n",
    "not_pm_free_links = spark.sql(\n",
    "    not_pm_free_query.format(start_date_string, end_date_string, start_date_string, end_date_string))\n",
    "not_pm_free_links.show()\n"
   ]
  }
 ],
 "metadata": {
  "kernelspec": {
   "display_name": "PySpark Custom from Tiziano",
   "language": "python",
   "name": "python3"
  },
  "language_info": {
   "codemirror_mode": {
    "name": "ipython",
    "version": 3
   },
   "file_extension": ".py",
   "mimetype": "text/x-python",
   "name": "python",
   "nbconvert_exporter": "python",
   "pygments_lexer": "ipython3",
   "version": "3.5.3"
  }
 },
 "nbformat": 4,
 "nbformat_minor": 2
}
