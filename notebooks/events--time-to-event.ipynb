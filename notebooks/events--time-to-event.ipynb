{
 "cells": [
  {
   "cell_type": "markdown",
   "metadata": {},
   "source": [
    "# Time To Event"
   ]
  },
  {
   "cell_type": "code",
   "execution_count": 1,
   "metadata": {},
   "outputs": [],
   "source": [
    "# basic defaults, including study dates, common SQL exclusions and parquet files for anonymized data\n",
    "%run -i 'data-defaults.py'"
   ]
  },
  {
   "cell_type": "markdown",
   "metadata": {},
   "source": [
    "## Time to event for W pages with external links"
   ]
  },
  {
   "cell_type": "code",
   "execution_count": 2,
   "metadata": {},
   "outputs": [
    {
     "name": "stdout",
     "output_type": "stream",
     "text": [
      "+--------+---------------------------+--------------------------+--------------------+---------+\n",
      "|  action|average_time_to_event_in_ms|median_time_to_event_in_ms|              stddev|      iqr|\n",
      "+--------+---------------------------+--------------------------+--------------------+---------+\n",
      "| fnHover|                 1791663.19|                   92090.0|2.8092415487170094E8| 289552.0|\n",
      "| fnClick|                 1013807.62|                   70062.0| 1.250577069504599E7| 171408.0|\n",
      "| upClick|                 1753665.93|                  181515.0| 1.712790104125731E7|545889.75|\n",
      "|extClick|                  420234.13|                   35633.0|5.4244638925624825E7|  96515.0|\n",
      "+--------+---------------------------+--------------------------+--------------------+---------+\n",
      "\n"
     ]
    }
   ],
   "source": [
    "w_event_time_query = \"\"\"\n",
    "SELECT action, \n",
    "    CAST(AVG(event_offset_time) AS DECIMAL(10,2)) AS average_time_to_event_in_ms, \n",
    "    PERCENTILE(event_offset_time,0.5) AS median_time_to_event_in_ms,\n",
    "    STDDEV(event_offset_time) as stddev,\n",
    "    (PERCENTILE(event_offset_time,0.75) - PERCENTILE(event_offset_time,0.25)) as iqr\n",
    "\n",
    "FROM \n",
    "    citationusage \n",
    "WHERE wiki = 'enwiki'\n",
    "    AND page_id IN \n",
    "        (SELECT page_id FROM ryanmax.population_w_pages_with_extlinks)\n",
    "    {}\n",
    "    AND to_date(event_time) >= '{}'\n",
    "    AND to_date(event_time) <= '{}'\n",
    "    AND useragent_is_bot = FALSE\n",
    "GROUP BY action\n",
    "\"\"\"\n",
    "\n",
    "spark.sql(\n",
    "    w_event_time_query.format(\n",
    "        event_exclusion_sql, start_date_string, end_date_string\n",
    "    )).show()"
   ]
  },
  {
   "cell_type": "markdown",
   "metadata": {},
   "source": [
    "## Time to event for WP:M pages with external links"
   ]
  },
  {
   "cell_type": "code",
   "execution_count": 3,
   "metadata": {},
   "outputs": [
    {
     "name": "stdout",
     "output_type": "stream",
     "text": [
      "+--------+---------------------------+--------------------------+--------------------+--------+\n",
      "|  action|average_time_to_event_in_ms|median_time_to_event_in_ms|              stddev|     iqr|\n",
      "+--------+---------------------------+--------------------------+--------------------+--------+\n",
      "| fnHover|                 6863961.98|                  123645.0| 2.487992256930276E9|458468.0|\n",
      "| fnClick|                 1175430.43|                   91949.0|1.3628820880268283E7|242785.0|\n",
      "| upClick|                 1866501.76|                  265348.0|1.7531366856536876E7|452209.0|\n",
      "|extClick|                  889672.76|                   53675.0|1.2199096437395627E7|171432.0|\n",
      "+--------+---------------------------+--------------------------+--------------------+--------+\n",
      "\n"
     ]
    }
   ],
   "source": [
    "wpm_event_time_query = \"\"\"\n",
    "SELECT action, \n",
    "    CAST(AVG(event_offset_time) AS DECIMAL(10,2)) AS average_time_to_event_in_ms, \n",
    "    PERCENTILE(event_offset_time,0.5) AS median_time_to_event_in_ms,\n",
    "    STDDEV(event_offset_time) as stddev,\n",
    "    (PERCENTILE(event_offset_time,0.75) - PERCENTILE(event_offset_time,0.25)) as iqr\n",
    "\n",
    "FROM \n",
    "    citationusage \n",
    "WHERE wiki = 'enwiki'\n",
    "    AND page_id IN \n",
    "        (SELECT page_id FROM ryanmax.population_wpm_pages_with_extlinks)\n",
    "    {}\n",
    "    AND to_date(event_time) >= '{}'\n",
    "    AND to_date(event_time) <= '{}'\n",
    "    AND useragent_is_bot = FALSE\n",
    "GROUP BY action\n",
    "\"\"\"\n",
    "\n",
    "spark.sql(\n",
    "    wpm_event_time_query.format(\n",
    "        event_exclusion_sql, start_date_string, end_date_string\n",
    "    )).show()"
   ]
  },
  {
   "cell_type": "code",
   "execution_count": null,
   "metadata": {},
   "outputs": [],
   "source": []
  }
 ],
 "metadata": {
  "kernelspec": {
   "display_name": "PySpark large: spark-xml jar and local venv path ",
   "language": "python",
   "name": "spark-ryanmax"
  },
  "language_info": {
   "codemirror_mode": {
    "name": "ipython",
    "version": 3
   },
   "file_extension": ".py",
   "mimetype": "text/x-python",
   "name": "python",
   "nbconvert_exporter": "python",
   "pygments_lexer": "ipython3",
   "version": "3.5.3"
  }
 },
 "nbformat": 4,
 "nbformat_minor": 2
}
