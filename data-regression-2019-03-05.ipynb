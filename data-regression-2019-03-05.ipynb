{
 "cells": [
  {
   "cell_type": "markdown",
   "metadata": {},
   "source": [
    "# Regression Testing 2019-03-05\n",
    " * tickets\n",
    "  - https://phabricator.wikimedia.org/T212937\n",
    "  - https://phabricator.wikimedia.org/T213969\n",
    " * docs\n",
    "   - [CitationUsage schema and data collection review](https://docs.google.com/document/d/1WOJT2Fg3M-sW2D3PBU-dPgtf4Lic3I7hqRE2jvRSKFY)\n",
    "   - [section_id examples for Baha](https://docs.google.com/spreadsheets/d/1iDkyLcn_xM4pm995qjE_hZM1Qe033_skPwf5Q4KyPG4)\n",
    "   - [Updated section_id document](https://docs.google.com/spreadsheets/d/1iDkyLcn_xM4pm995qjE_hZM1Qe033_skPwf5Q4KyPG4)\n"
   ]
  },
  {
   "cell_type": "code",
   "execution_count": 1,
   "metadata": {},
   "outputs": [],
   "source": [
    "# basic setup\n",
    "import pyspark\n",
    "import re\n",
    "import pyspark.sql\n",
    "from pyspark.sql import *\n",
    "import pandas as pd\n",
    "import matplotlib.pyplot as plt\n",
    "import hashlib\n",
    "import os.path\n",
    "from pyspark.sql.functions import desc\n",
    "from datetime import timedelta, date\n",
    "\n",
    "%matplotlib inline\n",
    "spark_hive = pyspark.sql.HiveContext(sc)\n",
    "\n",
    "schema_revision = \"18810892\""
   ]
  },
  {
   "cell_type": "markdown",
   "metadata": {},
   "source": [
    "## miscoded external links"
   ]
  },
  {
   "cell_type": "code",
   "execution_count": 2,
   "metadata": {},
   "outputs": [
    {
     "data": {
      "text/html": [
       "<div>\n",
       "<table border=\"1\" class=\"dataframe\">\n",
       "  <thead>\n",
       "    <tr style=\"text-align: right;\">\n",
       "      <th></th>\n",
       "      <th>action</th>\n",
       "      <th>likely_internal</th>\n",
       "      <th>count</th>\n",
       "    </tr>\n",
       "  </thead>\n",
       "  <tbody>\n",
       "    <tr>\n",
       "      <th>0</th>\n",
       "      <td>extClick</td>\n",
       "      <td>False</td>\n",
       "      <td>33258</td>\n",
       "    </tr>\n",
       "    <tr>\n",
       "      <th>1</th>\n",
       "      <td>extClick</td>\n",
       "      <td>True</td>\n",
       "      <td>611</td>\n",
       "    </tr>\n",
       "    <tr>\n",
       "      <th>2</th>\n",
       "      <td>fnClick</td>\n",
       "      <td>True</td>\n",
       "      <td>9434</td>\n",
       "    </tr>\n",
       "    <tr>\n",
       "      <th>3</th>\n",
       "      <td>fnClick</td>\n",
       "      <td>False</td>\n",
       "      <td>8180</td>\n",
       "    </tr>\n",
       "    <tr>\n",
       "      <th>4</th>\n",
       "      <td>fnHover</td>\n",
       "      <td>True</td>\n",
       "      <td>24718</td>\n",
       "    </tr>\n",
       "    <tr>\n",
       "      <th>5</th>\n",
       "      <td>fnHover</td>\n",
       "      <td>False</td>\n",
       "      <td>1228</td>\n",
       "    </tr>\n",
       "    <tr>\n",
       "      <th>6</th>\n",
       "      <td>upClick</td>\n",
       "      <td>True</td>\n",
       "      <td>6068</td>\n",
       "    </tr>\n",
       "    <tr>\n",
       "      <th>7</th>\n",
       "      <td>upClick</td>\n",
       "      <td>False</td>\n",
       "      <td>60</td>\n",
       "    </tr>\n",
       "  </tbody>\n",
       "</table>\n",
       "</div>"
      ],
      "text/plain": [
       "     action likely_internal  count\n",
       "0  extClick           False  33258\n",
       "1  extClick            True    611\n",
       "2   fnClick            True   9434\n",
       "3   fnClick           False   8180\n",
       "4   fnHover            True  24718\n",
       "5   fnHover           False   1228\n",
       "6   upClick            True   6068\n",
       "7   upClick           False     60"
      ]
     },
     "execution_count": 2,
     "metadata": {},
     "output_type": "execute_result"
    }
   ],
   "source": [
    "\n",
    "query = \"\"\"\n",
    "select event.action, (event.link_url like 'https://en.wikipedia.org%') as likely_internal, count(*) as count \n",
    "from event.citationusage \n",
    "where hour > -1 \n",
    "and revision = '{}'\n",
    "group by event.action, (event.link_url like 'https://en.wikipedia.org%') \n",
    "order by event.action, count desc limit 100\n",
    "\"\"\"\n",
    "\n",
    "events = spark.sql(query.format(schema_revision))\n",
    "sqlContext.createDataFrame(events.rdd).toPandas()"
   ]
  },
  {
   "cell_type": "markdown",
   "metadata": {},
   "source": [
    "** Summary: ** 1.8% of extClick events are likely miscoded as external"
   ]
  },
  {
   "cell_type": "markdown",
   "metadata": {},
   "source": [
    "### potential extClick exclusion criteria: missing page/revision data + miscoded external links"
   ]
  },
  {
   "cell_type": "code",
   "execution_count": 3,
   "metadata": {},
   "outputs": [
    {
     "data": {
      "text/html": [
       "<div>\n",
       "<table border=\"1\" class=\"dataframe\">\n",
       "  <thead>\n",
       "    <tr style=\"text-align: right;\">\n",
       "      <th></th>\n",
       "      <th>excluded</th>\n",
       "      <th>count</th>\n",
       "    </tr>\n",
       "  </thead>\n",
       "  <tbody>\n",
       "    <tr>\n",
       "      <th>0</th>\n",
       "      <td>True</td>\n",
       "      <td>617</td>\n",
       "    </tr>\n",
       "    <tr>\n",
       "      <th>1</th>\n",
       "      <td>False</td>\n",
       "      <td>33252</td>\n",
       "    </tr>\n",
       "  </tbody>\n",
       "</table>\n",
       "</div>"
      ],
      "text/plain": [
       "  excluded  count\n",
       "0     True    617\n",
       "1    False  33252"
      ]
     },
     "execution_count": 3,
     "metadata": {},
     "output_type": "execute_result"
    }
   ],
   "source": [
    "query = \"\"\"\n",
    "select ((event.page_id = 0 and event.revision_id = 0) or event.link_url like 'https://en.wikipedia.org%') as excluded, count(*) as count \n",
    "from event.citationusage \n",
    "where hour > -1 \n",
    "and revision = '{}'\n",
    "and event.action = 'extClick'\n",
    "group by ((event.page_id = 0 and event.revision_id = 0) or event.link_url like 'https://en.wikipedia.org%')\n",
    "\"\"\"\n",
    "\n",
    "events = spark.sql(query.format(schema_revision))\n",
    "sqlContext.createDataFrame(events.rdd).toPandas()"
   ]
  },
  {
   "cell_type": "markdown",
   "metadata": {},
   "source": [
    "**Summary**: Skipping page_id = 0 and miscoded external links, 1.8% of extClick events would be excluded."
   ]
  },
  {
   "cell_type": "markdown",
   "metadata": {},
   "source": [
    "### link_occurrence and ext_position\n",
    "** Weakness**: When an external link occurs more than once on a page, the position of the last occurrence is reported, potentially biasing data to indicate clicking occurs lower on the page"
   ]
  },
  {
   "cell_type": "code",
   "execution_count": 4,
   "metadata": {
    "scrolled": true
   },
   "outputs": [
    {
     "data": {
      "text/html": [
       "<div>\n",
       "<table border=\"1\" class=\"dataframe\">\n",
       "  <thead>\n",
       "    <tr style=\"text-align: right;\">\n",
       "      <th></th>\n",
       "      <th>greater_than_one_link_occurrence</th>\n",
       "      <th>count</th>\n",
       "    </tr>\n",
       "  </thead>\n",
       "  <tbody>\n",
       "    <tr>\n",
       "      <th>0</th>\n",
       "      <td>True</td>\n",
       "      <td>7703</td>\n",
       "    </tr>\n",
       "    <tr>\n",
       "      <th>1</th>\n",
       "      <td>False</td>\n",
       "      <td>26166</td>\n",
       "    </tr>\n",
       "  </tbody>\n",
       "</table>\n",
       "</div>"
      ],
      "text/plain": [
       "  greater_than_one_link_occurrence  count\n",
       "0                             True   7703\n",
       "1                            False  26166"
      ]
     },
     "execution_count": 4,
     "metadata": {},
     "output_type": "execute_result"
    }
   ],
   "source": [
    "query = \"\"\"\n",
    "select (event.link_occurrence > 1) as greater_than_one_link_occurrence, count(*) as count \n",
    "from event.citationusage \n",
    "where hour > -1 \n",
    "and revision = '{}'\n",
    "and event.action = 'extClick'\n",
    "group by (event.link_occurrence > 1)\n",
    "\"\"\"\n",
    "\n",
    "events = spark.sql(query.format(schema_revision))\n",
    "sqlContext.createDataFrame(events.rdd).toPandas()"
   ]
  },
  {
   "cell_type": "markdown",
   "metadata": {},
   "source": [
    "** Summary** : 23% of extClick events have a link_occurrence of more than 1, potentially skewing ext_position downward.\n",
    "In order for ext_position to be useful, analysis may need to exclude links with more than one occurrence."
   ]
  },
  {
   "cell_type": "code",
   "execution_count": null,
   "metadata": {},
   "outputs": [],
   "source": []
  }
 ],
 "metadata": {
  "kernelspec": {
   "display_name": "PySpark - YARN",
   "language": "python",
   "name": "spark_yarn_pyspark"
  },
  "language_info": {
   "codemirror_mode": {
    "name": "ipython",
    "version": 3
   },
   "file_extension": ".py",
   "mimetype": "text/x-python",
   "name": "python",
   "nbconvert_exporter": "python",
   "pygments_lexer": "ipython3",
   "version": "3.5.3"
  }
 },
 "nbformat": 4,
 "nbformat_minor": 2
}
