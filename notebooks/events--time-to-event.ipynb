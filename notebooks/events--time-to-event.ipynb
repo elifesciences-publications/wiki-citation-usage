{
 "cells": [
  {
   "cell_type": "markdown",
   "metadata": {},
   "source": [
    "# Time To Event"
   ]
  },
  {
   "cell_type": "code",
   "execution_count": 1,
   "metadata": {},
   "outputs": [],
   "source": [
    "# basic defaults, including study dates, common SQL exclusions and parquet files for anonymized data\n",
    "%run -i 'data-defaults.py'"
   ]
  },
  {
   "cell_type": "markdown",
   "metadata": {},
   "source": [
    "## Select first event by action type"
   ]
  },
  {
   "cell_type": "code",
   "execution_count": 2,
   "metadata": {},
   "outputs": [],
   "source": [
    "first_event_query = \"\"\"\n",
    "SELECT page_token, page_id, action, MIN(event_offset_time) AS first_event_offset_time\n",
    "FROM\n",
    "    citationusage\n",
    "WHERE wiki = 'enwiki'\n",
    "    {}\n",
    "    AND to_date(event_time) >= '{}'\n",
    "    AND to_date(event_time) <= '{}'\n",
    "    AND useragent_is_bot = FALSE\n",
    "GROUP BY page_token, page_id, action\n",
    "\"\"\"\n",
    "\n",
    "citationusage_first_event = spark.sql(\n",
    "        first_event_query.format(event_exclusion_sql, start_date_string, end_date_string\n",
    "    ))"
   ]
  },
  {
   "cell_type": "markdown",
   "metadata": {},
   "source": [
    "Register as table:"
   ]
  },
  {
   "cell_type": "code",
   "execution_count": 3,
   "metadata": {},
   "outputs": [],
   "source": [
    "citationusage_first_event.registerTempTable(\"citationusage_first_event\")"
   ]
  },
  {
   "cell_type": "markdown",
   "metadata": {},
   "source": [
    "## Time to event for W pages with external links - First event by type"
   ]
  },
  {
   "cell_type": "code",
   "execution_count": 4,
   "metadata": {},
   "outputs": [
    {
     "name": "stdout",
     "output_type": "stream",
     "text": [
      "+--------+---------------------------+--------------------------+--------------------+--------+\n",
      "|  action|average_time_to_event_in_ms|median_time_to_event_in_ms|              stddev|     iqr|\n",
      "+--------+---------------------------+--------------------------+--------------------+--------+\n",
      "| fnHover|                 1133349.50|                   67672.0| 3.363495803361469E8|189559.0|\n",
      "| fnClick|                  551408.55|                   56581.0|   8973764.211519724|132473.0|\n",
      "| upClick|                 1677620.66|                   69882.0|1.7689820370919295E7|249820.0|\n",
      "|extClick|                  391666.78|                   32758.0| 5.647982637670931E7| 86424.0|\n",
      "+--------+---------------------------+--------------------------+--------------------+--------+\n",
      "\n"
     ]
    }
   ],
   "source": [
    "w_event_time_query = \"\"\"\n",
    "SELECT action, \n",
    "    CAST(AVG(first_event_offset_time) AS DECIMAL(10,2)) AS average_time_to_event_in_ms, \n",
    "    PERCENTILE(first_event_offset_time,0.5) AS median_time_to_event_in_ms,\n",
    "    STDDEV(first_event_offset_time) as stddev,\n",
    "    (PERCENTILE(first_event_offset_time,0.75) - PERCENTILE(first_event_offset_time,0.25)) as iqr\n",
    "\n",
    "FROM \n",
    "    citationusage_first_event \n",
    "WHERE page_id IN \n",
    "        (SELECT page_id FROM ryanmax.population_w_pages_with_extlinks)\n",
    "GROUP BY action\n",
    "\"\"\"\n",
    "\n",
    "\n",
    "\n",
    "spark.sql(\n",
    "    w_event_time_query.format(\n",
    "        event_exclusion_sql, start_date_string, end_date_string\n",
    "    )).show()"
   ]
  },
  {
   "cell_type": "markdown",
   "metadata": {},
   "source": [
    "## Time to event for WP:M pages with external links - First event by type"
   ]
  },
  {
   "cell_type": "code",
   "execution_count": 5,
   "metadata": {},
   "outputs": [
    {
     "name": "stdout",
     "output_type": "stream",
     "text": [
      "+--------+---------------------------+--------------------------+--------------------+---------+\n",
      "|  action|average_time_to_event_in_ms|median_time_to_event_in_ms|              stddev|      iqr|\n",
      "+--------+---------------------------+--------------------------+--------------------+---------+\n",
      "| fnHover|                 4515701.82|                   76874.0|2.1958250545759416E9|232157.25|\n",
      "| fnClick|                  881732.14|                   72859.5|1.1722656796857571E7|180704.75|\n",
      "| upClick|                 2010296.18|                   93005.0|1.8052394892862108E7| 367071.0|\n",
      "|extClick|                  825780.67|                   47532.0|  1.17796109835044E7|147306.25|\n",
      "+--------+---------------------------+--------------------------+--------------------+---------+\n",
      "\n"
     ]
    }
   ],
   "source": [
    "wpm_event_time_query = \"\"\"\n",
    "SELECT action, \n",
    "    CAST(AVG(first_event_offset_time) AS DECIMAL(10,2)) AS average_time_to_event_in_ms, \n",
    "    PERCENTILE(first_event_offset_time,0.5) AS median_time_to_event_in_ms,\n",
    "    STDDEV(first_event_offset_time) as stddev,\n",
    "    (PERCENTILE(first_event_offset_time,0.75) - PERCENTILE(first_event_offset_time,0.25)) as iqr\n",
    "\n",
    "FROM \n",
    "    citationusage_first_event \n",
    "WHERE page_id IN \n",
    "        (SELECT page_id FROM ryanmax.population_wpm_pages_with_extlinks)\n",
    "GROUP BY action\n",
    "\"\"\"\n",
    "\n",
    "spark.sql(\n",
    "    wpm_event_time_query.format(\n",
    "        event_exclusion_sql, start_date_string, end_date_string\n",
    "    )).show()"
   ]
  },
  {
   "cell_type": "markdown",
   "metadata": {},
   "source": [
    "## Statistics\n",
    "\n",
    "Time to click:"
   ]
  },
  {
   "cell_type": "code",
   "execution_count": 6,
   "metadata": {},
   "outputs": [],
   "source": [
    "# Plots inline\n",
    "%matplotlib inline"
   ]
  },
  {
   "cell_type": "code",
   "execution_count": 7,
   "metadata": {},
   "outputs": [
    {
     "data": {
      "text/html": [
       "<div>\n",
       "<table border=\"1\" class=\"dataframe\">\n",
       "  <thead>\n",
       "    <tr style=\"text-align: right;\">\n",
       "      <th></th>\n",
       "      <th>action</th>\n",
       "      <th>event_offset_time</th>\n",
       "    </tr>\n",
       "  </thead>\n",
       "  <tbody>\n",
       "    <tr>\n",
       "      <th>0</th>\n",
       "      <td>extClick</td>\n",
       "      <td>36490</td>\n",
       "    </tr>\n",
       "    <tr>\n",
       "      <th>1</th>\n",
       "      <td>extClick</td>\n",
       "      <td>16107</td>\n",
       "    </tr>\n",
       "    <tr>\n",
       "      <th>2</th>\n",
       "      <td>extClick</td>\n",
       "      <td>595261</td>\n",
       "    </tr>\n",
       "    <tr>\n",
       "      <th>3</th>\n",
       "      <td>extClick</td>\n",
       "      <td>41613</td>\n",
       "    </tr>\n",
       "    <tr>\n",
       "      <th>4</th>\n",
       "      <td>extClick</td>\n",
       "      <td>426731</td>\n",
       "    </tr>\n",
       "  </tbody>\n",
       "</table>\n",
       "</div>"
      ],
      "text/plain": [
       "     action  event_offset_time\n",
       "0  extClick              36490\n",
       "1  extClick              16107\n",
       "2  extClick             595261\n",
       "3  extClick              41613\n",
       "4  extClick             426731"
      ]
     },
     "execution_count": 7,
     "metadata": {},
     "output_type": "execute_result"
    }
   ],
   "source": [
    "w_click_time_offset_query = \"\"\"\n",
    "SELECT action, event_offset_time\n",
    "FROM \n",
    "    citationusage \n",
    "WHERE wiki = 'enwiki'\n",
    "AND page_id IN \n",
    "    (SELECT page_id FROM ryanmax.population_w_pages_with_extlinks)\n",
    "{}\n",
    "AND to_date(event_time) >= '{}'\n",
    "AND to_date(event_time) <= '{}'\n",
    "AND useragent_is_bot = FALSE\n",
    "AND action = 'extClick'\n",
    "\"\"\"\n",
    "\n",
    "w_click_time_offset = spark.sql(\n",
    "    w_click_time_offset_query.format(\n",
    "        event_exclusion_sql, start_date_string, end_date_string\n",
    "    )).sample(0.2).toPandas()\n",
    "\n",
    "w_click_time_offset.head()"
   ]
  },
  {
   "cell_type": "code",
   "execution_count": 8,
   "metadata": {},
   "outputs": [
    {
     "data": {
      "text/html": [
       "<div>\n",
       "<table border=\"1\" class=\"dataframe\">\n",
       "  <thead>\n",
       "    <tr style=\"text-align: right;\">\n",
       "      <th></th>\n",
       "      <th>action</th>\n",
       "      <th>event_offset_time</th>\n",
       "    </tr>\n",
       "  </thead>\n",
       "  <tbody>\n",
       "    <tr>\n",
       "      <th>0</th>\n",
       "      <td>extClick</td>\n",
       "      <td>4192783</td>\n",
       "    </tr>\n",
       "    <tr>\n",
       "      <th>1</th>\n",
       "      <td>extClick</td>\n",
       "      <td>172940</td>\n",
       "    </tr>\n",
       "    <tr>\n",
       "      <th>2</th>\n",
       "      <td>extClick</td>\n",
       "      <td>27298</td>\n",
       "    </tr>\n",
       "    <tr>\n",
       "      <th>3</th>\n",
       "      <td>extClick</td>\n",
       "      <td>25466</td>\n",
       "    </tr>\n",
       "    <tr>\n",
       "      <th>4</th>\n",
       "      <td>extClick</td>\n",
       "      <td>21528</td>\n",
       "    </tr>\n",
       "  </tbody>\n",
       "</table>\n",
       "</div>"
      ],
      "text/plain": [
       "     action  event_offset_time\n",
       "0  extClick            4192783\n",
       "1  extClick             172940\n",
       "2  extClick              27298\n",
       "3  extClick              25466\n",
       "4  extClick              21528"
      ]
     },
     "execution_count": 8,
     "metadata": {},
     "output_type": "execute_result"
    }
   ],
   "source": [
    "wpm_click_time_offset_query = \"\"\"\n",
    "SELECT action, event_offset_time\n",
    "FROM \n",
    "    citationusage \n",
    "WHERE wiki = 'enwiki'\n",
    "AND page_id IN \n",
    "        (SELECT page_id FROM ryanmax.population_wpm_pages_with_extlinks)\n",
    "    {}\n",
    "AND to_date(event_time) >= '{}'\n",
    "AND to_date(event_time) <= '{}'\n",
    "AND useragent_is_bot = FALSE\n",
    "AND action = 'extClick'\n",
    "\"\"\"\n",
    "\n",
    "wpm_click_time_offset = spark.sql(\n",
    "    wpm_click_time_offset_query.format(\n",
    "        event_exclusion_sql, start_date_string, end_date_string\n",
    "    )).toPandas()\n",
    "\n",
    "wpm_click_time_offset.head()"
   ]
  },
  {
   "cell_type": "code",
   "execution_count": 9,
   "metadata": {},
   "outputs": [],
   "source": [
    "w_click_time_offset = w_click_time_offset[w_click_time_offset.event_offset_time > 0]\n",
    "wpm_click_time_offset = wpm_click_time_offset[wpm_click_time_offset.event_offset_time > 0]"
   ]
  },
  {
   "cell_type": "code",
   "execution_count": 10,
   "metadata": {},
   "outputs": [],
   "source": [
    "w_click_time_offset['group'] = \"W\"\n",
    "wpm_click_time_offset['group'] = \"WP:MED\"\n",
    "w_click_time_offset['event_offset_time_seconds'] = w_click_time_offset[\"event_offset_time\"]/1000\n",
    "wpm_click_time_offset['event_offset_time_seconds'] = wpm_click_time_offset[\"event_offset_time\"]/1000\n",
    "\n",
    "all_event_time = w_click_time_offset.append(wpm_click_time_offset)"
   ]
  },
  {
   "cell_type": "code",
   "execution_count": 11,
   "metadata": {},
   "outputs": [
    {
     "name": "stdout",
     "output_type": "stream",
     "text": [
      "Proportion of samples with negative time = 0.0\n"
     ]
    }
   ],
   "source": [
    "# fix data collection errors\n",
    "error_rate = len(all_event_time[all_event_time.event_offset_time<=0])/len(all_event_time)\n",
    "print(\"Proportion of samples with negative time = {}\".format(error_rate))"
   ]
  },
  {
   "cell_type": "code",
   "execution_count": 12,
   "metadata": {},
   "outputs": [
    {
     "data": {
      "image/png": "[encoded data removed]",
      "text/plain": [
       "<matplotlib.figure.Figure at 0x7f2362378358>"
      ]
     },
     "metadata": {},
     "output_type": "display_data"
    }
   ],
   "source": [
    "from scipy.stats import binned_statistic\n",
    "\n",
    "\n",
    "def get_normalized_hist(bins, data):\n",
    "    total_elements = len(data)\n",
    "    groups = binned_statistic(data, data, bins = bins, statistic = lambda r: len(r) / total_elements)\n",
    "    bin_centers = pd.Series(groups.bin_edges).rolling(2, 2).mean().dropna()\n",
    "    return bin_centers, groups.statistic\n",
    "\n",
    "bins = np.logspace(0, 4, 30, base=10)\n",
    "\n",
    "w_distribution = get_normalized_hist(bins, w_click_time_offset.event_offset_time_seconds)\n",
    "wpm_distribution = get_normalized_hist(bins, wpm_click_time_offset.event_offset_time_seconds)\n",
    "\n",
    "figure(num=None, figsize=(12, 5), dpi=80, facecolor='w', edgecolor='k')\n",
    "\n",
    "# Histogram\n",
    "plt.subplot(121)\n",
    "ax = plt.plot(wpm_distribution[0], wpm_distribution[1], marker='+', label=\"WP:MED\", color=\"darkorange\", zorder=2)\n",
    "plt.gca().fill_between(wpm_distribution[0], wpm_distribution[1], color = 'orange', alpha = 0.1)\n",
    "ax = plt.plot(w_distribution[0], w_distribution[1], marker='.', label=\"W\", color=\"steelblue\", zorder=1)\n",
    "plt.gca().fill_between(w_distribution[0], w_distribution[1], color = 'blue', alpha = 0.1)\n",
    "plt.gca().legend(loc=\"upper right\")\n",
    "plt.gca().set_xscale(\"log\", nonposx='clip')\n",
    "plt.title(\"Click-time offset W vs. WP:MED (Normalized Y)\")\n",
    "plt.xlabel(\"Click-time offset in seconds (log space - 30 bins)\")\n",
    "plt.ylabel(\"Portion of clicks\")\n",
    "vals = plt.gca().get_yticks()\n",
    "plt.gca().set_yticklabels(['{:,.0%}'.format(x) for x in vals])\n",
    "\n",
    "# Box plot\n",
    "plt.subplot(122)\n",
    "my_pal = {\"WP:MED\": \"darkorange\", \"W\": \"steelblue\"}\n",
    "sns.boxplot(x=\"group\", y=\"event_offset_time_seconds\", data=all_event_time, \n",
    "            showfliers=False, order=[\"WP:MED\", \"W\"], palette=my_pal)\n",
    "plt.ylabel(\"Click-time offset (seconds)\")\n",
    "plt.xlabel(\"Group\")\n",
    "plt.title(\"Distribution of the click-time offset\")\n",
    "\n",
    "\n",
    "plt.savefig(\"first_click_time.pdf\")"
   ]
  },
  {
   "cell_type": "markdown",
   "metadata": {},
   "source": [
    "# Mann–Whitney U test"
   ]
  },
  {
   "cell_type": "code",
   "execution_count": 13,
   "metadata": {},
   "outputs": [
    {
     "name": "stdout",
     "output_type": "stream",
     "text": [
      "Statistics=3554483188896.500, p < 0.001\n",
      "Different distribution (reject H0)\n"
     ]
    }
   ],
   "source": [
    "from scipy.stats import mannwhitneyu\n",
    "\n",
    "# compare distributions\n",
    "stat, p = mannwhitneyu(w_click_time_offset.event_offset_time_seconds, wpm_click_time_offset.event_offset_time_seconds)\n",
    "alpha = 0.001\n",
    "if p < alpha:\n",
    "    print('Statistics=%.3f, p < %.3f' % (stat, alpha))\n",
    "else:\n",
    "    print('Statistics=%.3f, p = %.3f' % (stat, p))\n",
    "# interpret\n",
    "if p > alpha:\n",
    "    print('Same distribution (fail to reject H0)')\n",
    "else:\n",
    "    print('Different distribution (reject H0)')"
   ]
  },
  {
   "cell_type": "code",
   "execution_count": null,
   "metadata": {},
   "outputs": [],
   "source": []
  }
 ],
 "metadata": {
  "kernelspec": {
   "display_name": "PySpark - YARN (large)",
   "language": "python",
   "name": "spark_yarn_pyspark_large"
  },
  "language_info": {
   "codemirror_mode": {
    "name": "ipython",
    "version": 3
   },
   "file_extension": ".py",
   "mimetype": "text/x-python",
   "name": "python",
   "nbconvert_exporter": "python",
   "pygments_lexer": "ipython3",
   "version": "3.5.3"
  }
 },
 "nbformat": 4,
 "nbformat_minor": 2
}
