{
 "cells": [
  {
   "cell_type": "markdown",
   "metadata": {},
   "source": [
    "# examples using anonymized parquet data\n",
    "2019-05-31"
   ]
  },
  {
   "cell_type": "code",
   "execution_count": 1,
   "metadata": {},
   "outputs": [],
   "source": [
    "# basic setup\n",
    "import pyspark\n",
    "import re\n",
    "import pyspark.sql\n",
    "from pyspark.sql import *\n",
    "import pandas as pd\n",
    "import matplotlib.pyplot as plt\n",
    "import hashlib\n",
    "import os.path\n",
    "from pyspark.sql.functions import desc\n",
    "from datetime import timedelta, date\n",
    "\n",
    "%matplotlib inline\n",
    "spark_hive = pyspark.sql.HiveContext(sc)"
   ]
  },
  {
   "cell_type": "code",
   "execution_count": 5,
   "metadata": {},
   "outputs": [],
   "source": [
    "## basic data defaults\n",
    "\n",
    "# set date ranges for all queries\n",
    "start_date = date(2019, 3, 29)\n",
    "end_date = date(2019, 4, 22)\n",
    "date_format = '%Y-%m-%d'\n",
    "start_date_string = start_date.strftime(date_format)\n",
    "end_date_string = end_date.strftime(date_format)\n",
    "\n",
    "# for iterating over the range of study dates (used in daily count of events queries)\n",
    "def daterange(start_date, end_date):\n",
    "    for n in range(int ((end_date - start_date).days + 1)):\n",
    "        yield start_date + timedelta(n)\n",
    "\n",
    "# convenience method for converting dates to 'YYYY-MM-DD%' for SQL queries\n",
    "def date_to_dt(date):\n",
    "    return str(date.year) + '-' + '{0:02d}'.format(date.month) + '-' + '{0:02d}'.format(date.day) + '%'\n",
    "\n",
    "## common exclusion SQL\n",
    "#\n",
    "# exclude event data that is either: \n",
    "# - has page or revision ID of zero (pages not yet created as per bmansurov https://phabricator.wikimedia.org/T213969#4998281)\n",
    "# - is 'extClick' but is an internal link improperly coded as external as per bmansurov https://phabricator.wikimedia.org/T213969#5003710\n",
    "event_exclusion_sql = \"\"\"\n",
    "AND (citationusage.page_id = 0 OR citationusage.revision_id = 0) = FALSE\n",
    "AND (citationusage.action = 'extClick' AND \n",
    "    (citationusage.link_url LIKE 'https://en.wikipedia.org%' \n",
    "    OR citationusage.link_url LIKE 'https://en.m.wikipedia.org%')) = FALSE\n",
    "\"\"\"\n",
    "# exclude pageload data that:\n",
    "# - has page or revision ID of zero (pages not yet created as per bmansurov https://phabricator.wikimedia.org/T213969#4998281)\n",
    "pageload_exclusion_sql = \"\"\"\n",
    "AND (citationusagepageload.page_id = 0 OR citationusagepageload.revision_id = 0) = FALSE\n",
    "\"\"\"\n"
   ]
  },
  {
   "cell_type": "code",
   "execution_count": 6,
   "metadata": {},
   "outputs": [],
   "source": [
    "parquetFilePageloads = spark.read.parquet(\"/user/piccardi/anonymous_pageloads_april.parquet\")\n",
    "parquetFilePageloads.createOrReplaceTempView(\"citationusagepageload\")\n",
    "parquetFileCitationusage = spark.read.parquet(\"/user/piccardi/anonymous_citationusage_april.parquet\")\n",
    "parquetFileCitationusage.createOrReplaceTempView(\"citationusage\")"
   ]
  },
  {
   "cell_type": "markdown",
   "metadata": {},
   "source": [
    "## pageloads data"
   ]
  },
  {
   "cell_type": "code",
   "execution_count": 20,
   "metadata": {},
   "outputs": [
    {
     "name": "stdout",
     "output_type": "stream",
     "text": [
      "+----------+\n",
      "|     count|\n",
      "+----------+\n",
      "|1401158765|\n",
      "+----------+\n",
      "\n"
     ]
    }
   ],
   "source": [
    "# original pageloads data without bots\n",
    "orig_pageloads_query = \"\"\"\n",
    "SELECT count(*) count\n",
    "FROM event.citationusagepageload\n",
    "WHERE wiki = 'enwiki'\n",
    "AND (citationusagepageload.event.page_id = 0 OR citationusagepageload.event.revision_id = 0) = FALSE\n",
    "AND to_date(dt) >= '{}'\n",
    "AND to_date(dt) <= '{}'\n",
    "AND useragent.is_bot = FALSE\n",
    "\"\"\"\n",
    "spark.sql(orig_pageloads_query.format(start_date_string, end_date_string)).show()"
   ]
  },
  {
   "cell_type": "code",
   "execution_count": 22,
   "metadata": {},
   "outputs": [
    {
     "name": "stdout",
     "output_type": "stream",
     "text": [
      "+----------+\n",
      "|     count|\n",
      "+----------+\n",
      "|1402190827|\n",
      "+----------+\n",
      "\n"
     ]
    }
   ],
   "source": [
    "# original pageloads data with bots\n",
    "bots_pageloads_query = \"\"\"\n",
    "SELECT count(*) count\n",
    "FROM event.citationusagepageload\n",
    "WHERE wiki = 'enwiki'\n",
    "AND (citationusagepageload.event.page_id = 0 OR citationusagepageload.event.revision_id = 0) = FALSE\n",
    "AND to_date(dt) >= '{}'\n",
    "AND to_date(dt) <= '{}'\n",
    "\"\"\"\n",
    "spark.sql(bots_pageloads_query.format(start_date_string, end_date_string)).show()"
   ]
  },
  {
   "cell_type": "code",
   "execution_count": 23,
   "metadata": {},
   "outputs": [
    {
     "name": "stdout",
     "output_type": "stream",
     "text": [
      "+----------+\n",
      "|     count|\n",
      "+----------+\n",
      "|1401424489|\n",
      "+----------+\n",
      "\n"
     ]
    }
   ],
   "source": [
    "# anonymized pageloads data\n",
    "anon_pageloads_query = \"\"\"\n",
    "SELECT count(*) count\n",
    "FROM citationusagepageload\n",
    "WHERE wiki = 'enwiki'\n",
    "AND (citationusagepageload.page_id = 0 OR citationusagepageload.revision_id = 0) = FALSE\n",
    "AND to_date(event_time) >= '{}'\n",
    "AND to_date(event_time) <= '{}'\n",
    "\"\"\"\n",
    "spark.sql(anon_pageloads_query.format(start_date_string, end_date_string)).show()"
   ]
  },
  {
   "cell_type": "markdown",
   "metadata": {},
   "source": [
    "## events data"
   ]
  },
  {
   "cell_type": "code",
   "execution_count": 14,
   "metadata": {},
   "outputs": [
    {
     "name": "stdout",
     "output_type": "stream",
     "text": [
      "+--------+--------+\n",
      "|  action|   count|\n",
      "+--------+--------+\n",
      "| fnHover|29259814|\n",
      "| fnClick|18977045|\n",
      "| upClick|  813130|\n",
      "|extClick|39515529|\n",
      "+--------+--------+\n",
      "\n"
     ]
    }
   ],
   "source": [
    "# anonymized data\n",
    "anon_events_query = \"\"\"\n",
    "SELECT action, COUNT(*) count\n",
    "FROM citationusage\n",
    "WHERE wiki = 'enwiki'\n",
    "AND (citationusage.page_id = 0 OR citationusage.revision_id = 0) = FALSE\n",
    "AND (citationusage.action = 'extClick' AND \n",
    "    (citationusage.link_url LIKE 'https://en.wikipedia.org%' \n",
    "    OR citationusage.link_url LIKE 'https://en.m.wikipedia.org%')) = FALSE\n",
    "AND to_date(event_time) >= '{}'\n",
    "AND to_date(event_time) <= '{}'\n",
    "GROUP BY action\n",
    "\"\"\"\n",
    "events = spark.sql(anon_events_query.format(start_date_string, end_date_string)).show()"
   ]
  },
  {
   "cell_type": "code",
   "execution_count": 17,
   "metadata": {},
   "outputs": [
    {
     "name": "stdout",
     "output_type": "stream",
     "text": [
      "+--------+--------+\n",
      "|  action|   count|\n",
      "+--------+--------+\n",
      "| fnHover|29259567|\n",
      "| fnClick|18976858|\n",
      "| upClick|  813101|\n",
      "|extClick|39515221|\n",
      "+--------+--------+\n",
      "\n"
     ]
    }
   ],
   "source": [
    "# original data without bots\n",
    "orig_events_query = \"\"\"\n",
    "SELECT event.action, COUNT(*) count\n",
    "FROM event.citationusage\n",
    "WHERE wiki = 'enwiki'\n",
    "AND (citationusage.event.page_id = 0 OR citationusage.event.revision_id = 0) = FALSE\n",
    "AND (citationusage.event.action = 'extClick' AND \n",
    "    (citationusage.event.link_url LIKE 'https://en.wikipedia.org%' \n",
    "    OR citationusage.event.link_url LIKE 'https://en.m.wikipedia.org%')) = FALSE\n",
    "AND to_date(dt) >= '{}'\n",
    "AND to_date(dt) <= '{}'\n",
    "AND useragent.is_bot = FALSE\n",
    "GROUP BY event.action\n",
    "\"\"\"\n",
    "spark.sql(orig_events_query.format(start_date_string, end_date_string)).show()"
   ]
  },
  {
   "cell_type": "code",
   "execution_count": 18,
   "metadata": {},
   "outputs": [
    {
     "name": "stdout",
     "output_type": "stream",
     "text": [
      "+--------+--------+\n",
      "|  action|   count|\n",
      "+--------+--------+\n",
      "| fnHover|29259814|\n",
      "| fnClick|18977045|\n",
      "| upClick|  813130|\n",
      "|extClick|39515529|\n",
      "+--------+--------+\n",
      "\n"
     ]
    }
   ],
   "source": [
    "# original data with bots\n",
    "bots_events_query = \"\"\"\n",
    "SELECT event.action, COUNT(*) count\n",
    "FROM event.citationusage\n",
    "WHERE wiki = 'enwiki'\n",
    "AND (citationusage.event.page_id = 0 OR citationusage.event.revision_id = 0) = FALSE\n",
    "AND (citationusage.event.action = 'extClick' AND \n",
    "    (citationusage.event.link_url LIKE 'https://en.wikipedia.org%' \n",
    "    OR citationusage.event.link_url LIKE 'https://en.m.wikipedia.org%')) = FALSE\n",
    "AND to_date(dt) >= '{}'\n",
    "AND to_date(dt) <= '{}'\n",
    "GROUP BY event.action\n",
    "\"\"\"\n",
    "spark.sql(bots_events_query.format(start_date_string, end_date_string)).show()"
   ]
  },
  {
   "cell_type": "markdown",
   "metadata": {},
   "source": [
    "## count of events for WP:M pages with ext links, limited to events w/ pageload data"
   ]
  },
  {
   "cell_type": "code",
   "execution_count": 25,
   "metadata": {},
   "outputs": [
    {
     "name": "stdout",
     "output_type": "stream",
     "text": [
      "+--------+------+\n",
      "|  action| count|\n",
      "+--------+------+\n",
      "| fnHover|396944|\n",
      "| fnClick|228205|\n",
      "| upClick| 12667|\n",
      "|extClick|213878|\n",
      "+--------+------+\n",
      "\n"
     ]
    }
   ],
   "source": [
    "# original data without bots\n",
    "sampled_wpm_events_query = \"\"\"\n",
    "SELECT event.action, count(*) count\n",
    "FROM event.citationusage\n",
    "WHERE wiki = 'enwiki'\n",
    "AND event.page_id IN (SELECT DISTINCT page_id FROM ryanmax.projmed_with_extlinks WHERE to_date(dt) >= '{}' AND to_date(dt) <= '{}')\n",
    "AND event.session_token in (\n",
    "    SELECT event.session_token \n",
    "    FROM event.citationusagepageload\n",
    "    WHERE wiki = 'enwiki'\n",
    "    AND to_date(dt) >= '{}' \n",
    "    AND to_date(dt) <= '{}'\n",
    "    AND useragent.is_bot = FALSE\n",
    "    )\n",
    "AND to_date(dt) >= '{}' \n",
    "AND to_date(dt) <= '{}'\n",
    "AND useragent.is_bot = FALSE\n",
    "GROUP BY event.action\n",
    "\"\"\"\n",
    "\n",
    "spark.sql(\n",
    "        sampled_wpm_events_query.format(start_date_string, end_date_string,\n",
    "                                        start_date_string, end_date_string,\n",
    "                                        start_date_string, end_date_string)).show()"
   ]
  },
  {
   "cell_type": "code",
   "execution_count": 26,
   "metadata": {},
   "outputs": [
    {
     "name": "stdout",
     "output_type": "stream",
     "text": [
      "+--------+------+\n",
      "|  action| count|\n",
      "+--------+------+\n",
      "| fnHover|396948|\n",
      "| fnClick|228206|\n",
      "| upClick| 12667|\n",
      "|extClick|213878|\n",
      "+--------+------+\n",
      "\n"
     ]
    }
   ],
   "source": [
    "# original data with bots\n",
    "bots_sampled_wpm_events_query = \"\"\"\n",
    "SELECT event.action, count(*) count\n",
    "FROM event.citationusage\n",
    "WHERE wiki = 'enwiki'\n",
    "AND event.page_id IN (SELECT DISTINCT page_id FROM ryanmax.projmed_with_extlinks WHERE to_date(dt) >= '{}' AND to_date(dt) <= '{}')\n",
    "AND event.session_token in (\n",
    "    SELECT event.session_token \n",
    "    FROM event.citationusagepageload\n",
    "    WHERE wiki = 'enwiki'\n",
    "    AND to_date(dt) >= '{}' \n",
    "    AND to_date(dt) <= '{}'\n",
    "    )\n",
    "AND to_date(dt) >= '{}' \n",
    "AND to_date(dt) <= '{}'\n",
    "GROUP BY event.action\n",
    "\"\"\"\n",
    "\n",
    "spark.sql(\n",
    "        bots_sampled_wpm_events_query.format(start_date_string, end_date_string,\n",
    "                                        start_date_string, end_date_string,\n",
    "                                        start_date_string, end_date_string)).show()"
   ]
  },
  {
   "cell_type": "code",
   "execution_count": 28,
   "metadata": {},
   "outputs": [
    {
     "name": "stdout",
     "output_type": "stream",
     "text": [
      "+--------+------+\n",
      "|  action| count|\n",
      "+--------+------+\n",
      "| fnHover|396734|\n",
      "| fnClick|228125|\n",
      "| upClick| 12661|\n",
      "|extClick|213813|\n",
      "+--------+------+\n",
      "\n"
     ]
    }
   ],
   "source": [
    "# anonymized data\n",
    "anon_sampled_wpm_events_query = \"\"\"\n",
    "SELECT action, count(*) count\n",
    "FROM citationusage\n",
    "WHERE wiki = 'enwiki'\n",
    "AND page_id IN (SELECT DISTINCT page_id FROM ryanmax.projmed_with_extlinks WHERE to_date(dt) >= '{}' AND to_date(dt) <= '{}')\n",
    "AND session_id in (\n",
    "    SELECT session_id\n",
    "    FROM citationusagepageload\n",
    "    WHERE wiki = 'enwiki'\n",
    "    AND to_date(event_time) >= '{}' \n",
    "    AND to_date(event_time) <= '{}'\n",
    "    )\n",
    "AND to_date(event_time) >= '{}' \n",
    "AND to_date(event_time) <= '{}'\n",
    "GROUP BY action\n",
    "\"\"\"\n",
    "\n",
    "spark.sql(\n",
    "        anon_sampled_wpm_events_query.format(start_date_string, end_date_string,\n",
    "                                        start_date_string, end_date_string,\n",
    "                                        start_date_string, end_date_string)).show()"
   ]
  }
 ],
 "metadata": {
  "kernelspec": {
   "display_name": "PySpark - YARN",
   "language": "python",
   "name": "spark_yarn_pyspark"
  },
  "language_info": {
   "codemirror_mode": {
    "name": "ipython",
    "version": 3
   },
   "file_extension": ".py",
   "mimetype": "text/x-python",
   "name": "python",
   "nbconvert_exporter": "python",
   "pygments_lexer": "ipython3",
   "version": "3.5.3"
  }
 },
 "nbformat": 4,
 "nbformat_minor": 2
}
