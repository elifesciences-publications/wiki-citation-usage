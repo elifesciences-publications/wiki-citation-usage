{
 "cells": [
  {
   "cell_type": "markdown",
   "metadata": {},
   "source": [
    "## Load externallinks Data\n",
    "- data source: SQL dumps of externallinks table\n",
    "- data filtered down to el_id, el_from, el_to columns\n",
    "- dates: 20190401 and 20190420"
   ]
  },
  {
   "cell_type": "code",
   "execution_count": 1,
   "metadata": {},
   "outputs": [],
   "source": [
    "# basic defaults, including study dates, common SQL exclusions and parquet files for anonymized data\n",
    "%run -i 'data-defaults.py'"
   ]
  },
  {
   "cell_type": "markdown",
   "metadata": {},
   "source": [
    "### load dump files to HDFS"
   ]
  },
  {
   "cell_type": "code",
   "execution_count": 2,
   "metadata": {},
   "outputs": [],
   "source": [
    "dates = ['20190401','20190420']"
   ]
  },
  {
   "cell_type": "code",
   "execution_count": 3,
   "metadata": {},
   "outputs": [],
   "source": [
    "for d in dates:\n",
    "    !hdfs dfs -put ~/dumps/ext$d externallinks_from_dump_$d"
   ]
  },
  {
   "cell_type": "markdown",
   "metadata": {},
   "source": [
    "### schema creation"
   ]
  },
  {
   "cell_type": "code",
   "execution_count": 6,
   "metadata": {},
   "outputs": [],
   "source": [
    "\n",
    "create = \"\"\"\n",
    "CREATE TABLE IF NOT EXISTS ryanmax.externallinks_from_dump_{} ( el_id bigint, el_from bigint, el_to String)\n",
    "ROW FORMAT DELIMITED\n",
    "FIELDS TERMINATED BY '\\t'\n",
    "LINES TERMINATED BY '\\n'\n",
    "STORED AS TEXTFILE\n",
    "TBLPROPERTIES(\"skip.header.line.count\"=\"1\")\n",
    "\"\"\"\n",
    "\n",
    "load = \"\"\"\n",
    "LOAD DATA INPATH 'externallinks_from_dump_{}' OVERWRITE INTO TABLE ryanmax.externallinks_from_dump_{}\n",
    "\"\"\"\n",
    "\n",
    "for d in dates:\n",
    "    sqlContext.sql(create.format(d))\n",
    "    sqlContext.sql(load.format(d,d))\n",
    "    "
   ]
  },
  {
   "cell_type": "code",
   "execution_count": 7,
   "metadata": {},
   "outputs": [
    {
     "name": "stdout",
     "output_type": "stream",
     "text": [
      "+---------+---------+\n",
      "|dump_date|num_links|\n",
      "+---------+---------+\n",
      "| 20190401|128425048|\n",
      "+---------+---------+\n",
      "\n",
      "+---------+---------+\n",
      "|dump_date|num_links|\n",
      "+---------+---------+\n",
      "| 20190420|129078534|\n",
      "+---------+---------+\n",
      "\n"
     ]
    }
   ],
   "source": [
    "# data check\n",
    "for d in dates:\n",
    "    spark.sql(\"SELECT '{}' as dump_date, count(*) as num_links FROM ryanmax.externallinks_from_dump_{}\".format(d,d)).show()\n"
   ]
  },
  {
   "cell_type": "code",
   "execution_count": null,
   "metadata": {},
   "outputs": [],
   "source": []
  }
 ],
 "metadata": {
  "kernelspec": {
   "display_name": "PySpark - YARN",
   "language": "python",
   "name": "spark_yarn_pyspark"
  },
  "language_info": {
   "codemirror_mode": {
    "name": "ipython",
    "version": 3
   },
   "file_extension": ".py",
   "mimetype": "text/x-python",
   "name": "python",
   "nbconvert_exporter": "python",
   "pygments_lexer": "ipython3",
   "version": "3.5.3"
  }
 },
 "nbformat": 4,
 "nbformat_minor": 2
}
