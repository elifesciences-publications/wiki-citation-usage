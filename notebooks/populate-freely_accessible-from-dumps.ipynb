{
 "cells": [
  {
   "cell_type": "markdown",
   "metadata": {},
   "source": [
    "# Freely Accessible Link Data\n",
    "- extract \"freely accessible\" links and link typs from dump files\n",
    "- populate `population_freelink_id_types` table\n",
    "- report static counts\n",
    "- report event counts"
   ]
  },
  {
   "cell_type": "markdown",
   "metadata": {},
   "source": [
    "## Link Counts from XML Dumps"
   ]
  },
  {
   "cell_type": "code",
   "execution_count": 1,
   "metadata": {},
   "outputs": [],
   "source": [
    "# basic defaults, including study dates, common SQL exclusions and parquet files for anonymized data\n",
    "%run -i 'data-defaults.py'"
   ]
  },
  {
   "cell_type": "code",
   "execution_count": 2,
   "metadata": {},
   "outputs": [],
   "source": [
    "WIKIPEDIA_XML_DUMPS = ['enwiki-20190401-pages-articles-multistream.xml.bz2',\n",
    "                       'enwiki-20190420-pages-articles-multistream.xml.bz2']\n",
    "\n",
    "# regex derived from https://en.wikipedia.org/wiki/Module:Citation/CS1/Configuration as per Antonin Delpeuch\n",
    "FREE_REGEX = re.compile(r'((pmc|arxiv|citeseerx|biorxiv|rfc|ssrn) ?= ?\\w)|((doi|hdl|bibcode|ol|jstor|osti)-access ?= ?free)', re.IGNORECASE | re.DOTALL)\n",
    "\n",
    "def extract(entity, date):\n",
    "    page_text = entity.revision.text._VALUE\n",
    "    matches = FREE_REGEX.finditer(page_text)\n",
    "    rows = list()\n",
    "    for m in matches:\n",
    "        id_type = None\n",
    "        if (m.group(2)):\n",
    "            id_type = m.group(2)\n",
    "        elif (m.group(4)):\n",
    "            id_type = m.group(4)\n",
    "        rows.append(Row(dt=date, page_id=entity.id, id_type=id_type.lower()))\n",
    "    return rows\n",
    "    \n",
    "freely_rdd = sc.emptyRDD()\n",
    "for file in WIKIPEDIA_XML_DUMPS:\n",
    "    wikipedia = sqlContext.read.format('com.databricks.spark.xml').options(rowTag='page').load(file)\n",
    "    dump_date = re.search(r'.*(\\d{8}).*',file).group(1)\n",
    "    articles = wikipedia\\\n",
    "        .filter(\"ns = '0'\")\\\n",
    "        .filter(\"redirect._title is null\") \\\n",
    "        .filter(\"revision.text._VALUE is not null\") \\\n",
    "        .filter(\"length(revision.text._VALUE) > 0\")\n",
    "    \n",
    "    daily_counts = sqlContext.createDataFrame(articles.rdd.flatMap(lambda entity: extract(entity, dump_date)))\n",
    "    freely_rdd = freely_rdd.union(daily_counts.rdd)\n",
    "\n",
    "freely_merged = sqlContext.createDataFrame(freely_rdd)\n",
    "freely = freely_merged.toPandas()\n"
   ]
  },
  {
   "cell_type": "code",
   "execution_count": 3,
   "metadata": {},
   "outputs": [
    {
     "name": "stdout",
     "output_type": "stream",
     "text": [
      "+--------+---------+-------+\n",
      "|      dt|  id_type|page_id|\n",
      "+--------+---------+-------+\n",
      "|20190401|      pmc|     25|\n",
      "|20190401|      doi|     25|\n",
      "|20190401|      pmc|     25|\n",
      "|20190401|      pmc|     25|\n",
      "|20190401|      doi|     25|\n",
      "|20190401|      doi|     25|\n",
      "|20190401|citeseerx|     25|\n",
      "|20190401|      pmc|     25|\n",
      "|20190401|      pmc|     25|\n",
      "|20190401|citeseerx|     25|\n",
      "|20190401|      pmc|     25|\n",
      "|20190401|      pmc|     25|\n",
      "|20190401|      pmc|     25|\n",
      "|20190401|      pmc|     25|\n",
      "|20190401|      pmc|     25|\n",
      "|20190401|citeseerx|     25|\n",
      "|20190401|      pmc|     25|\n",
      "|20190401|      pmc|     25|\n",
      "|20190401|      doi|     25|\n",
      "|20190401|      pmc|     25|\n",
      "+--------+---------+-------+\n",
      "only showing top 20 rows\n",
      "\n"
     ]
    }
   ],
   "source": [
    "freely_merged.show()"
   ]
  },
  {
   "cell_type": "code",
   "execution_count": 4,
   "metadata": {},
   "outputs": [
    {
     "data": {
      "text/plain": [
       "DataFrame[]"
      ]
     },
     "execution_count": 4,
     "metadata": {},
     "output_type": "execute_result"
    }
   ],
   "source": [
    "# write free link counts data for later use\n",
    "freely_merged.createOrReplaceTempView(\"temp_free_id_types\")\n",
    "sqlContext.sql(\"DROP TABLE IF EXISTS ryanmax.free_id_types\")\n",
    "sqlContext.sql(\"CREATE TABLE ryanmax.free_id_types AS SELECT * FROM temp_free_id_types\")"
   ]
  },
  {
   "cell_type": "markdown",
   "metadata": {},
   "source": [
    "### Rate of change between dump days"
   ]
  },
  {
   "cell_type": "code",
   "execution_count": 6,
   "metadata": {},
   "outputs": [
    {
     "name": "stdout",
     "output_type": "stream",
     "text": [
      "Rate of change:  0.0104899813798\n"
     ]
    },
    {
     "data": {
      "text/html": [
       "<div>\n",
       "<table border=\"1\" class=\"dataframe\">\n",
       "  <thead>\n",
       "    <tr style=\"text-align: right;\">\n",
       "      <th></th>\n",
       "      <th>freely_accessible_links</th>\n",
       "      <th>extract_date</th>\n",
       "    </tr>\n",
       "  </thead>\n",
       "  <tbody>\n",
       "    <tr>\n",
       "      <th>0</th>\n",
       "      <td>341564</td>\n",
       "      <td>20190401</td>\n",
       "    </tr>\n",
       "    <tr>\n",
       "      <th>1</th>\n",
       "      <td>345147</td>\n",
       "      <td>20190420</td>\n",
       "    </tr>\n",
       "  </tbody>\n",
       "</table>\n",
       "</div>"
      ],
      "text/plain": [
       "   freely_accessible_links extract_date\n",
       "0                   341564     20190401\n",
       "1                   345147     20190420"
      ]
     },
     "execution_count": 6,
     "metadata": {},
     "output_type": "execute_result"
    }
   ],
   "source": [
    "# calculate rate of change\n",
    "q = \"\"\"\n",
    "SELECT count(*) AS freely_accessible_links, dt AS extract_date\n",
    "FROM \n",
    "    ryanmax.free_id_types\n",
    "GROUP BY extract_date\n",
    "ORDER BY extract_date\n",
    "\"\"\"\n",
    "freelinks = spark.sql(q)\n",
    "freelinks_pd = sqlContext.createDataFrame(freelinks.rdd).toPandas()\n",
    "print('Rate of change: ',(freelinks_pd['freely_accessible_links'][1] - freelinks_pd['freely_accessible_links'][0])/freelinks_pd['freely_accessible_links'][0])\n",
    "freelinks_pd\n"
   ]
  },
  {
   "cell_type": "code",
   "execution_count": 13,
   "metadata": {},
   "outputs": [
    {
     "name": "stdout",
     "output_type": "stream",
     "text": [
      "+-----------------------+\n",
      "|freely_accessible_links|\n",
      "+-----------------------+\n",
      "|                 345147|\n",
      "+-----------------------+\n",
      "\n"
     ]
    }
   ],
   "source": [
    "# write data for 2019-04-20 and report out link count\n",
    "freelinks = spark.sql(\"SELECT * FROM ryanmax.free_id_types WHERE dt = '20190420'\")\n",
    "freelinks_df = sqlContext.createDataFrame(freelinks.rdd)\n",
    "freelinks_df.createOrReplaceTempView(\"temp_free_id_types\")\n",
    "sqlContext.sql(\"DROP TABLE IF EXISTS ryanmax.population_freelink_id_types\")\n",
    "sqlContext.sql(\"CREATE TABLE ryanmax.population_freelink_id_types AS SELECT * FROM temp_free_id_types\")\n",
    "spark.sql(\"select count(*) as freely_accessible_links from ryanmax.population_freelink_id_types\").show()"
   ]
  },
  {
   "cell_type": "markdown",
   "metadata": {},
   "source": [
    "### Counts of freely_accessible links"
   ]
  },
  {
   "cell_type": "markdown",
   "metadata": {},
   "source": [
    "#### Count of freely_accessible links in W pages w/ ext links"
   ]
  },
  {
   "cell_type": "code",
   "execution_count": 14,
   "metadata": {},
   "outputs": [
    {
     "name": "stdout",
     "output_type": "stream",
     "text": [
      "+-----------------------+\n",
      "|freely_accessible_links|\n",
      "+-----------------------+\n",
      "|                 292357|\n",
      "+-----------------------+\n",
      "\n"
     ]
    }
   ],
   "source": [
    "# Count of freely_accessible links in W pages w/ ext links\n",
    "w_free_query = \"\"\"\n",
    "SELECT count(*) AS freely_accessible_links\n",
    "FROM \n",
    "    ryanmax.population_freelink_id_types\n",
    "WHERE \n",
    "    page_id IN (SELECT page_id FROM ryanmax.population_w_pages_with_extlinks)\n",
    "\"\"\"\n",
    "\n",
    "w_free_links = spark.sql(w_free_query)\n",
    "w_free_links.show()"
   ]
  },
  {
   "cell_type": "markdown",
   "metadata": {},
   "source": [
    "#### Count of freely_accessible links in WP:M pages w/ ext links"
   ]
  },
  {
   "cell_type": "code",
   "execution_count": 15,
   "metadata": {},
   "outputs": [
    {
     "name": "stdout",
     "output_type": "stream",
     "text": [
      "+-----------------------+\n",
      "|freely_accessible_links|\n",
      "+-----------------------+\n",
      "|                  52782|\n",
      "+-----------------------+\n",
      "\n"
     ]
    }
   ],
   "source": [
    "# Count of freely_accessible links in WP:M pages w/ ext links\n",
    "pm_free_query = \"\"\"\n",
    "SELECT count(*) AS freely_accessible_links\n",
    "FROM \n",
    "    ryanmax.population_freelink_id_types\n",
    "WHERE \n",
    "    page_id IN (SELECT page_id FROM ryanmax.population_wpm_pages_with_extlinks)\n",
    "\"\"\"\n",
    "\n",
    "pm_free_links = spark.sql(pm_free_query)\n",
    "pm_free_links.show()\n"
   ]
  },
  {
   "cell_type": "markdown",
   "metadata": {},
   "source": [
    "### Counts of freely_accessible links by id_type"
   ]
  },
  {
   "cell_type": "markdown",
   "metadata": {},
   "source": [
    "#### Count of freely_accessible links in W pages w/ ext links by id_type"
   ]
  },
  {
   "cell_type": "code",
   "execution_count": 16,
   "metadata": {},
   "outputs": [
    {
     "data": {
      "text/html": [
       "<div>\n",
       "<table border=\"1\" class=\"dataframe\">\n",
       "  <thead>\n",
       "    <tr style=\"text-align: right;\">\n",
       "      <th></th>\n",
       "      <th>id_type</th>\n",
       "      <th>freely_accessible_links</th>\n",
       "    </tr>\n",
       "  </thead>\n",
       "  <tbody>\n",
       "    <tr>\n",
       "      <th>0</th>\n",
       "      <td>pmc</td>\n",
       "      <td>188354</td>\n",
       "    </tr>\n",
       "    <tr>\n",
       "      <th>1</th>\n",
       "      <td>arxiv</td>\n",
       "      <td>53216</td>\n",
       "    </tr>\n",
       "    <tr>\n",
       "      <th>2</th>\n",
       "      <td>doi</td>\n",
       "      <td>24997</td>\n",
       "    </tr>\n",
       "    <tr>\n",
       "      <th>3</th>\n",
       "      <td>citeseerx</td>\n",
       "      <td>19440</td>\n",
       "    </tr>\n",
       "    <tr>\n",
       "      <th>4</th>\n",
       "      <td>ssrn</td>\n",
       "      <td>3238</td>\n",
       "    </tr>\n",
       "    <tr>\n",
       "      <th>5</th>\n",
       "      <td>rfc</td>\n",
       "      <td>1974</td>\n",
       "    </tr>\n",
       "    <tr>\n",
       "      <th>6</th>\n",
       "      <td>hdl</td>\n",
       "      <td>704</td>\n",
       "    </tr>\n",
       "    <tr>\n",
       "      <th>7</th>\n",
       "      <td>biorxiv</td>\n",
       "      <td>221</td>\n",
       "    </tr>\n",
       "    <tr>\n",
       "      <th>8</th>\n",
       "      <td>bibcode</td>\n",
       "      <td>117</td>\n",
       "    </tr>\n",
       "    <tr>\n",
       "      <th>9</th>\n",
       "      <td>jstor</td>\n",
       "      <td>81</td>\n",
       "    </tr>\n",
       "    <tr>\n",
       "      <th>10</th>\n",
       "      <td>ol</td>\n",
       "      <td>13</td>\n",
       "    </tr>\n",
       "    <tr>\n",
       "      <th>11</th>\n",
       "      <td>osti</td>\n",
       "      <td>2</td>\n",
       "    </tr>\n",
       "  </tbody>\n",
       "</table>\n",
       "</div>"
      ],
      "text/plain": [
       "      id_type  freely_accessible_links\n",
       "0         pmc                   188354\n",
       "1       arxiv                    53216\n",
       "2         doi                    24997\n",
       "3   citeseerx                    19440\n",
       "4        ssrn                     3238\n",
       "5         rfc                     1974\n",
       "6         hdl                      704\n",
       "7     biorxiv                      221\n",
       "8     bibcode                      117\n",
       "9       jstor                       81\n",
       "10         ol                       13\n",
       "11       osti                        2"
      ]
     },
     "execution_count": 16,
     "metadata": {},
     "output_type": "execute_result"
    }
   ],
   "source": [
    "# Count of freely_accessible links in W pages w/ ext links by id_type\n",
    "w_free_ids_query = \"\"\"\n",
    "SELECT id_type, count(*) AS freely_accessible_links\n",
    "FROM \n",
    "    ryanmax.population_freelink_id_types\n",
    "WHERE page_id IN \n",
    "    (SELECT page_id FROM ryanmax.population_w_pages_with_extlinks)\n",
    "GROUP BY id_type\n",
    "ORDER BY freely_accessible_links desc\n",
    "\"\"\"\n",
    "\n",
    "w_free_ids = spark.sql(w_free_ids_query)\n",
    "w_free_ids.toPandas()"
   ]
  },
  {
   "cell_type": "markdown",
   "metadata": {},
   "source": [
    "#### Count of freely_accessible links in WP:M pages w/ ext links by id_type"
   ]
  },
  {
   "cell_type": "code",
   "execution_count": 17,
   "metadata": {},
   "outputs": [
    {
     "data": {
      "text/html": [
       "<div>\n",
       "<table border=\"1\" class=\"dataframe\">\n",
       "  <thead>\n",
       "    <tr style=\"text-align: right;\">\n",
       "      <th></th>\n",
       "      <th>id_type</th>\n",
       "      <th>freely_accessible_links</th>\n",
       "    </tr>\n",
       "  </thead>\n",
       "  <tbody>\n",
       "    <tr>\n",
       "      <th>0</th>\n",
       "      <td>pmc</td>\n",
       "      <td>50830</td>\n",
       "    </tr>\n",
       "    <tr>\n",
       "      <th>1</th>\n",
       "      <td>citeseerx</td>\n",
       "      <td>1390</td>\n",
       "    </tr>\n",
       "    <tr>\n",
       "      <th>2</th>\n",
       "      <td>doi</td>\n",
       "      <td>347</td>\n",
       "    </tr>\n",
       "    <tr>\n",
       "      <th>3</th>\n",
       "      <td>arxiv</td>\n",
       "      <td>118</td>\n",
       "    </tr>\n",
       "    <tr>\n",
       "      <th>4</th>\n",
       "      <td>ssrn</td>\n",
       "      <td>67</td>\n",
       "    </tr>\n",
       "    <tr>\n",
       "      <th>5</th>\n",
       "      <td>biorxiv</td>\n",
       "      <td>17</td>\n",
       "    </tr>\n",
       "    <tr>\n",
       "      <th>6</th>\n",
       "      <td>hdl</td>\n",
       "      <td>10</td>\n",
       "    </tr>\n",
       "    <tr>\n",
       "      <th>7</th>\n",
       "      <td>rfc</td>\n",
       "      <td>2</td>\n",
       "    </tr>\n",
       "    <tr>\n",
       "      <th>8</th>\n",
       "      <td>jstor</td>\n",
       "      <td>1</td>\n",
       "    </tr>\n",
       "  </tbody>\n",
       "</table>\n",
       "</div>"
      ],
      "text/plain": [
       "     id_type  freely_accessible_links\n",
       "0        pmc                    50830\n",
       "1  citeseerx                     1390\n",
       "2        doi                      347\n",
       "3      arxiv                      118\n",
       "4       ssrn                       67\n",
       "5    biorxiv                       17\n",
       "6        hdl                       10\n",
       "7        rfc                        2\n",
       "8      jstor                        1"
      ]
     },
     "execution_count": 17,
     "metadata": {},
     "output_type": "execute_result"
    }
   ],
   "source": [
    "# Count of freely_accessible links in WP:M pages w/ ext links by id_type\n",
    "wpm_free_ids_query = \"\"\"\n",
    "SELECT id_type, count(*) AS freely_accessible_links\n",
    "FROM \n",
    "    ryanmax.population_freelink_id_types\n",
    "WHERE page_id IN \n",
    "    (SELECT page_id FROM ryanmax.population_wpm_pages_with_extlinks)\n",
    "GROUP BY id_type\n",
    "ORDER BY freely_accessible_links desc\n",
    "\"\"\"\n",
    "\n",
    "wpm_free_ids = spark.sql(wpm_free_ids_query)\n",
    "wpm_free_ids.toPandas()"
   ]
  },
  {
   "cell_type": "markdown",
   "metadata": {},
   "source": [
    "## Event Counts"
   ]
  },
  {
   "cell_type": "markdown",
   "metadata": {},
   "source": [
    "### Count of events for freely accessible links in WP:M pages"
   ]
  },
  {
   "cell_type": "code",
   "execution_count": 18,
   "metadata": {},
   "outputs": [
    {
     "data": {
      "text/html": [
       "<div>\n",
       "<table border=\"1\" class=\"dataframe\">\n",
       "  <thead>\n",
       "    <tr style=\"text-align: right;\">\n",
       "      <th></th>\n",
       "      <th>freely_accessible</th>\n",
       "      <th>action</th>\n",
       "      <th>total_events</th>\n",
       "      <th>daily_average_events</th>\n",
       "    </tr>\n",
       "  </thead>\n",
       "  <tbody>\n",
       "    <tr>\n",
       "      <th>0</th>\n",
       "      <td>False</td>\n",
       "      <td>extClick</td>\n",
       "      <td>823375</td>\n",
       "      <td>25730.46875</td>\n",
       "    </tr>\n",
       "    <tr>\n",
       "      <th>1</th>\n",
       "      <td>True</td>\n",
       "      <td>extClick</td>\n",
       "      <td>2606</td>\n",
       "      <td>81.43750</td>\n",
       "    </tr>\n",
       "  </tbody>\n",
       "</table>\n",
       "</div>"
      ],
      "text/plain": [
       "  freely_accessible    action  total_events  daily_average_events\n",
       "0             False  extClick        823375           25730.46875\n",
       "1              True  extClick          2606              81.43750"
      ]
     },
     "execution_count": 18,
     "metadata": {},
     "output_type": "execute_result"
    }
   ],
   "source": [
    "# Total count of events for freely accessible links in WP:M\n",
    "pm_freely_events_query = \"\"\"\n",
    "SELECT freely_accessible, action, count(*) AS total_events, count(*)/{} AS daily_average_events\n",
    "FROM \n",
    "    citationusage \n",
    "WHERE wiki = 'enwiki'\n",
    "    AND action = 'extClick'\n",
    "    AND page_id IN \n",
    "            (SELECT page_id FROM ryanmax.population_wpm_pages_with_extlinks)\n",
    "    {}\n",
    "    AND to_date(event_time) >= '{}'\n",
    "    AND to_date(event_time) <= '{}'\n",
    "    AND useragent_is_bot = FALSE\n",
    "GROUP BY freely_accessible, action\n",
    "\"\"\"\n",
    "\n",
    "pm_freely_events = spark.sql(\n",
    "    pm_freely_events_query.format(\n",
    "        days_in_study, event_exclusion_sql, start_date_string, end_date_string\n",
    "    ))\n",
    "pm_freely_events_rdd = pm_freely_events.rdd\n",
    "pm_freely_events_df = sqlContext.createDataFrame(pm_freely_events_rdd)\n",
    "pm_freely_events_pandas = pm_freely_events_df.toPandas()\n",
    "pm_freely_events_pandas"
   ]
  },
  {
   "cell_type": "markdown",
   "metadata": {},
   "source": [
    "### Count of events for freely accessible links in W pages"
   ]
  },
  {
   "cell_type": "code",
   "execution_count": 20,
   "metadata": {},
   "outputs": [
    {
     "data": {
      "text/html": [
       "<div>\n",
       "<table border=\"1\" class=\"dataframe\">\n",
       "  <thead>\n",
       "    <tr style=\"text-align: right;\">\n",
       "      <th></th>\n",
       "      <th>freely_accessible</th>\n",
       "      <th>action</th>\n",
       "      <th>total_events</th>\n",
       "      <th>daily_average_events</th>\n",
       "    </tr>\n",
       "  </thead>\n",
       "  <tbody>\n",
       "    <tr>\n",
       "      <th>0</th>\n",
       "      <td>False</td>\n",
       "      <td>extClick</td>\n",
       "      <td>49792871</td>\n",
       "      <td>1.556027e+06</td>\n",
       "    </tr>\n",
       "    <tr>\n",
       "      <th>1</th>\n",
       "      <td>True</td>\n",
       "      <td>extClick</td>\n",
       "      <td>35018</td>\n",
       "      <td>1.094312e+03</td>\n",
       "    </tr>\n",
       "  </tbody>\n",
       "</table>\n",
       "</div>"
      ],
      "text/plain": [
       "  freely_accessible    action  total_events  daily_average_events\n",
       "0             False  extClick      49792871          1.556027e+06\n",
       "1              True  extClick         35018          1.094312e+03"
      ]
     },
     "execution_count": 20,
     "metadata": {},
     "output_type": "execute_result"
    }
   ],
   "source": [
    "# Total count of events for freely accessible links in W\n",
    "w_freely_events_query = \"\"\"\n",
    "SELECT freely_accessible, action, count(*) AS total_events, count(*)/{} AS daily_average_events\n",
    "FROM \n",
    "    citationusage \n",
    "WHERE wiki = 'enwiki'\n",
    "    AND action = 'extClick'\n",
    "    AND page_id IN \n",
    "            (SELECT page_id FROM ryanmax.population_w_pages_with_extlinks)\n",
    "    {}\n",
    "    AND to_date(event_time) >= '{}'\n",
    "    AND to_date(event_time) <= '{}'\n",
    "    AND useragent_is_bot = FALSE\n",
    "GROUP BY freely_accessible, action\n",
    "\"\"\"\n",
    "\n",
    "w_freely_events = spark.sql(\n",
    "    w_freely_events_query.format(\n",
    "        days_in_study, event_exclusion_sql, start_date_string, end_date_string\n",
    "    ))\n",
    "w_freely_events_rdd = w_freely_events.rdd\n",
    "w_freely_events_df = sqlContext.createDataFrame(w_freely_events_rdd)\n",
    "w_freely_events_pandas = w_freely_events_df.toPandas()\n",
    "w_freely_events_pandas"
   ]
  },
  {
   "cell_type": "code",
   "execution_count": null,
   "metadata": {},
   "outputs": [],
   "source": []
  }
 ],
 "metadata": {
  "kernelspec": {
   "display_name": "PySpark large: spark-xml jar and local venv path ",
   "language": "python",
   "name": "spark-ryanmax"
  },
  "language_info": {
   "codemirror_mode": {
    "name": "ipython",
    "version": 3
   },
   "file_extension": ".py",
   "mimetype": "text/x-python",
   "name": "python",
   "nbconvert_exporter": "python",
   "pygments_lexer": "ipython3",
   "version": "3.5.3"
  }
 },
 "nbformat": 4,
 "nbformat_minor": 2
}
