{
 "cells": [
  {
   "cell_type": "markdown",
   "metadata": {},
   "source": [
    "# Time To Event"
   ]
  },
  {
   "cell_type": "code",
   "execution_count": 1,
   "metadata": {},
   "outputs": [],
   "source": [
    "# basic defaults, including study dates, common SQL exclusions and parquet files for anonymized data\n",
    "%run -i 'data-defaults.py'"
   ]
  },
  {
   "cell_type": "markdown",
   "metadata": {},
   "source": [
    "## Time to event for W pages with external links"
   ]
  },
  {
   "cell_type": "code",
   "execution_count": 3,
   "metadata": {},
   "outputs": [],
   "source": [
    "w_event_time_query = \"\"\"\n",
    "SELECT action, \n",
    "    CAST(AVG(event_offset_time) AS DECIMAL(10,2)) AS average_time_to_event_in_ms, \n",
    "    PERCENTILE(event_offset_time,0.5) AS median_time_to_event_in_ms,\n",
    "    STDDEV(event_offset_time) as stddev,\n",
    "    (PERCENTILE(event_offset_time,0.75) - PERCENTILE(event_offset_time,0.25)) as iqr\n",
    "\n",
    "FROM \n",
    "    citationusage \n",
    "WHERE wiki = 'enwiki'\n",
    "    AND page_id IN \n",
    "        (SELECT page_id FROM ryanmax.population_w_pages_with_extlinks)\n",
    "    {}\n",
    "    AND to_date(event_time) >= '{}'\n",
    "    AND to_date(event_time) <= '{}'\n",
    "    AND useragent_is_bot = FALSE\n",
    "GROUP BY action\n",
    "\"\"\"\n",
    "\n",
    "spark.sql(\n",
    "    w_event_time_query.format(\n",
    "        event_exclusion_sql, start_date_string, end_date_string\n",
    "    )).show()"
   ]
  },
  {
   "cell_type": "markdown",
   "metadata": {},
   "source": [
    "## Time to event for WP:M pages with external links"
   ]
  },
  {
   "cell_type": "code",
   "execution_count": 4,
   "metadata": {},
   "outputs": [],
   "source": [
    "wpm_event_time_query = \"\"\"\n",
    "SELECT action, \n",
    "    CAST(AVG(event_offset_time) AS DECIMAL(10,2)) AS average_time_to_event_in_ms, \n",
    "    PERCENTILE(event_offset_time,0.5) AS median_time_to_event_in_ms,\n",
    "    STDDEV(event_offset_time) as stddev,\n",
    "    (PERCENTILE(event_offset_time,0.75) - PERCENTILE(event_offset_time,0.25)) as iqr\n",
    "\n",
    "FROM \n",
    "    citationusage \n",
    "WHERE wiki = 'enwiki'\n",
    "    AND page_id IN \n",
    "        (SELECT page_id FROM ryanmax.population_wpm_pages_with_extlinks)\n",
    "    {}\n",
    "    AND to_date(event_time) >= '{}'\n",
    "    AND to_date(event_time) <= '{}'\n",
    "    AND useragent_is_bot = FALSE\n",
    "GROUP BY action\n",
    "\"\"\"\n",
    "\n",
    "spark.sql(\n",
    "    wpm_event_time_query.format(\n",
    "        event_exclusion_sql, start_date_string, end_date_string\n",
    "    )).show()"
   ]
  },
  {
   "cell_type": "markdown",
   "metadata": {},
   "source": [
    "## Statistics\n",
    "\n",
    "Time to click:"
   ]
  },
  {
   "cell_type": "code",
   "execution_count": 2,
   "metadata": {},
   "outputs": [
    {
     "data": {
      "text/html": [
       "<div>\n",
       "<table border=\"1\" class=\"dataframe\">\n",
       "  <thead>\n",
       "    <tr style=\"text-align: right;\">\n",
       "      <th></th>\n",
       "      <th>action</th>\n",
       "      <th>event_offset_time</th>\n",
       "    </tr>\n",
       "  </thead>\n",
       "  <tbody>\n",
       "    <tr>\n",
       "      <th>0</th>\n",
       "      <td>extClick</td>\n",
       "      <td>256555</td>\n",
       "    </tr>\n",
       "    <tr>\n",
       "      <th>1</th>\n",
       "      <td>extClick</td>\n",
       "      <td>3158</td>\n",
       "    </tr>\n",
       "    <tr>\n",
       "      <th>2</th>\n",
       "      <td>extClick</td>\n",
       "      <td>2830</td>\n",
       "    </tr>\n",
       "    <tr>\n",
       "      <th>3</th>\n",
       "      <td>extClick</td>\n",
       "      <td>41613</td>\n",
       "    </tr>\n",
       "    <tr>\n",
       "      <th>4</th>\n",
       "      <td>extClick</td>\n",
       "      <td>51797</td>\n",
       "    </tr>\n",
       "  </tbody>\n",
       "</table>\n",
       "</div>"
      ],
      "text/plain": [
       "     action  event_offset_time\n",
       "0  extClick             256555\n",
       "1  extClick               3158\n",
       "2  extClick               2830\n",
       "3  extClick              41613\n",
       "4  extClick              51797"
      ]
     },
     "execution_count": 2,
     "metadata": {},
     "output_type": "execute_result"
    }
   ],
   "source": [
    "w_click_time_offset_query = \"\"\"\n",
    "SELECT action, event_offset_time\n",
    "FROM \n",
    "    citationusage \n",
    "WHERE wiki = 'enwiki'\n",
    "AND page_id IN \n",
    "    (SELECT page_id FROM ryanmax.population_w_pages_with_extlinks)\n",
    "{}\n",
    "AND to_date(event_time) >= '{}'\n",
    "AND to_date(event_time) <= '{}'\n",
    "AND useragent_is_bot = FALSE\n",
    "AND action = 'extClick'\n",
    "\"\"\"\n",
    "\n",
    "w_click_time_offset = spark.sql(\n",
    "    w_click_time_offset_query.format(\n",
    "        event_exclusion_sql, start_date_string, end_date_string\n",
    "    )).sample(0.2).toPandas()\n",
    "\n",
    "w_click_time_offset.head()"
   ]
  },
  {
   "cell_type": "code",
   "execution_count": 3,
   "metadata": {},
   "outputs": [
    {
     "data": {
      "text/html": [
       "<div>\n",
       "<table border=\"1\" class=\"dataframe\">\n",
       "  <thead>\n",
       "    <tr style=\"text-align: right;\">\n",
       "      <th></th>\n",
       "      <th>action</th>\n",
       "      <th>event_offset_time</th>\n",
       "    </tr>\n",
       "  </thead>\n",
       "  <tbody>\n",
       "    <tr>\n",
       "      <th>0</th>\n",
       "      <td>extClick</td>\n",
       "      <td>4192783</td>\n",
       "    </tr>\n",
       "    <tr>\n",
       "      <th>1</th>\n",
       "      <td>extClick</td>\n",
       "      <td>172940</td>\n",
       "    </tr>\n",
       "    <tr>\n",
       "      <th>2</th>\n",
       "      <td>extClick</td>\n",
       "      <td>27298</td>\n",
       "    </tr>\n",
       "    <tr>\n",
       "      <th>3</th>\n",
       "      <td>extClick</td>\n",
       "      <td>25466</td>\n",
       "    </tr>\n",
       "    <tr>\n",
       "      <th>4</th>\n",
       "      <td>extClick</td>\n",
       "      <td>21528</td>\n",
       "    </tr>\n",
       "  </tbody>\n",
       "</table>\n",
       "</div>"
      ],
      "text/plain": [
       "     action  event_offset_time\n",
       "0  extClick            4192783\n",
       "1  extClick             172940\n",
       "2  extClick              27298\n",
       "3  extClick              25466\n",
       "4  extClick              21528"
      ]
     },
     "execution_count": 3,
     "metadata": {},
     "output_type": "execute_result"
    }
   ],
   "source": [
    "wpm_click_time_offset_query = \"\"\"\n",
    "SELECT action, event_offset_time\n",
    "FROM \n",
    "    citationusage \n",
    "WHERE wiki = 'enwiki'\n",
    "AND page_id IN \n",
    "        (SELECT page_id FROM ryanmax.population_wpm_pages_with_extlinks)\n",
    "    {}\n",
    "AND to_date(event_time) >= '{}'\n",
    "AND to_date(event_time) <= '{}'\n",
    "AND useragent_is_bot = FALSE\n",
    "AND action = 'extClick'\n",
    "\"\"\"\n",
    "\n",
    "wpm_click_time_offset = spark.sql(\n",
    "    wpm_click_time_offset_query.format(\n",
    "        event_exclusion_sql, start_date_string, end_date_string\n",
    "    )).toPandas()\n",
    "\n",
    "wpm_click_time_offset.head()"
   ]
  },
  {
   "cell_type": "code",
   "execution_count": 24,
   "metadata": {},
   "outputs": [
    {
     "name": "stdout",
     "output_type": "stream",
     "text": [
      "Proportion of samples with negative time = 0.00025889116432342046\n"
     ]
    }
   ],
   "source": [
    "# fix data collection errors\n",
    "error_rate = len(all_event_time[all_event_time.event_offset_time<=0])/len(all_event_time)\n",
    "print(\"Proportion of samples with negative time = {}\".format(error_rate))"
   ]
  },
  {
   "cell_type": "code",
   "execution_count": 25,
   "metadata": {},
   "outputs": [],
   "source": [
    "w_click_time_offset = w_click_time_offset[w_click_time_offset.event_offset_time > 0]\n",
    "wpm_click_time_offset = wpm_click_time_offset[wpm_click_time_offset.event_offset_time > 0]"
   ]
  },
  {
   "cell_type": "code",
   "execution_count": 32,
   "metadata": {},
   "outputs": [],
   "source": [
    "w_click_time_offset['group'] = \"W\"\n",
    "wpm_click_time_offset['group'] = \"WM\"\n",
    "w_click_time_offset['event_offset_time_seconds'] = w_click_time_offset[\"event_offset_time\"]/1000\n",
    "wpm_click_time_offset['event_offset_time_seconds'] = wpm_click_time_offset[\"event_offset_time\"]/1000\n",
    "\n",
    "all_event_time = w_click_time_offset.append(wpm_click_time_offset)"
   ]
  },
  {
   "cell_type": "code",
   "execution_count": 12,
   "metadata": {},
   "outputs": [],
   "source": [
    "# Plots inline\n",
    "%matplotlib inline"
   ]
  },
  {
   "cell_type": "code",
   "execution_count": 58,
   "metadata": {},
   "outputs": [
    {
     "data": {
      "text/plain": [
       "<matplotlib.text.Text at 0x7f5e0c3885f8>"
      ]
     },
     "execution_count": 58,
     "metadata": {},
     "output_type": "execute_result"
    },
    {
     "data": {
      "image/png": "[encoded data removed]",
      "text/plain": [
       "<matplotlib.figure.Figure at 0x7f5e1e53f9e8>"
      ]
     },
     "metadata": {},
     "output_type": "display_data"
    }
   ],
   "source": [
    "from scipy.stats import binned_statistic\n",
    "\n",
    "\n",
    "def get_normalized_hist(bins, data):\n",
    "    total_elements = len(data)\n",
    "    groups = binned_statistic(data, data, bins = bins, statistic = lambda r: len(r) / total_elements)\n",
    "    bin_centers = pd.Series(groups.bin_edges).rolling(2, 2).mean().dropna()\n",
    "    return bin_centers, groups.statistic\n",
    "\n",
    "bins = np.logspace(0, 4, 30, base=10)\n",
    "\n",
    "w_distribution = get_normalized_hist(bins, w_click_time_offset.event_offset_time_seconds)\n",
    "wm_distribution = get_normalized_hist(bins, wpm_click_time_offset.event_offset_time_seconds)\n",
    "\n",
    "figure(num=None, figsize=(12, 5), dpi=80, facecolor='w', edgecolor='k')\n",
    "plt.subplot(121)\n",
    "\n",
    "\n",
    "ax = plt.plot(w_distribution[0], w_distribution[1], marker='+', label=\"W\")\n",
    "ax = plt.plot(wm_distribution[0], wm_distribution[1], marker='+', label=\"W:M\")\n",
    "\n",
    "plt.gca().legend(loc=\"upper right\")\n",
    "plt.gca().set_xscale(\"log\", nonposx='clip')\n",
    "\n",
    "\n",
    "plt.title(\"Click-time offset W vs. W:M (Normalized Y)\")\n",
    "plt.xlabel(\"Click-time offset\")\n",
    "plt.ylabel(\"Portion of clicks\")\n",
    "\n",
    "plt.subplot(122)\n",
    "\n",
    "sns.boxplot(x=\"group\", y=\"event_offset_time_seconds\", data=all_event_time, showfliers=False)\n",
    "plt.ylabel(\"Click-time offset (log space)\")\n",
    "plt.title(\"Distribution of the click-time offset\")\n"
   ]
  },
  {
   "cell_type": "code",
   "execution_count": 59,
   "metadata": {},
   "outputs": [
    {
     "name": "stdout",
     "output_type": "stream",
     "text": [
      "Statistics=1777735855015.500, p < 0.001\n",
      "Different distribution (reject H0)\n"
     ]
    }
   ],
   "source": [
    "from scipy.stats import mannwhitneyu\n",
    "\n",
    "# compare samples\n",
    "stat, p = mannwhitneyu(w_click_time_offset.event_offset_time_seconds, wpm_click_time_offset.event_offset_time_seconds)\n",
    "alpha = 0.001\n",
    "if p < alpha:\n",
    "    print('Statistics=%.3f, p < %.3f' % (stat, alpha))\n",
    "else:\n",
    "    print('Statistics=%.3f, p = %.3f' % (stat, p))\n",
    "# interpret\n",
    "if p > alpha:\n",
    "    print('Same distribution (fail to reject H0)')\n",
    "else:\n",
    "    print('Different distribution (reject H0)')"
   ]
  },
  {
   "cell_type": "code",
   "execution_count": null,
   "metadata": {},
   "outputs": [],
   "source": []
  }
 ],
 "metadata": {
  "kernelspec": {
   "display_name": "PySpark Custom 50 Executors",
   "language": "python",
   "name": "spark_yarn_50exec"
  },
  "language_info": {
   "codemirror_mode": {
    "name": "ipython",
    "version": 3
   },
   "file_extension": ".py",
   "mimetype": "text/x-python",
   "name": "python",
   "nbconvert_exporter": "python",
   "pygments_lexer": "ipython3",
   "version": "3.5.3"
  }
 },
 "nbformat": 4,
 "nbformat_minor": 2
}
