{
 "cells": [
  {
   "cell_type": "markdown",
   "metadata": {},
   "source": [
    "# Wikipedia Pages\n",
    "- create page subsets, including:\n",
    " - `population_wpm_pages_with_extlinks`: WP:M page subset, limited to pages with external links\n",
    " - `population_w_pages_with_extlinks`: W page subset, limited to pages with external links, excludes WP:M pages\n",
    " - `pages_wpm`: WP:M page subset, NOT limited to pages with external links\n",
    " - `projmed_categories`: categories or classes of WP:M pages\n",
    "- report counts for W, WP:M pages with and without external links"
   ]
  },
  {
   "cell_type": "code",
   "execution_count": 1,
   "metadata": {},
   "outputs": [],
   "source": [
    "# basic defaults, including study dates, common SQL exclusions and parquet files for anonymized data\n",
    "%run -i 'data-defaults.py'"
   ]
  },
  {
   "cell_type": "markdown",
   "metadata": {},
   "source": [
    "### Load Pages Data from SQL Output\n",
    "- see [data](../data/) directory for input"
   ]
  },
  {
   "cell_type": "code",
   "execution_count": 2,
   "metadata": {},
   "outputs": [],
   "source": [
    "# store SQL output in HDFS\n",
    "!cat ~/wiki-citation-usage/data/wiki_proj_med_pages-2019*.txt > /tmp/pages_wpm\n",
    "!hdfs dfs -put /tmp/pages_wpm pages_wpm\n",
    "\n",
    "!cat ~/wiki-citation-usage/data/wiki_proj_med_pages-with-extlinks-2019*.txt > /tmp/pages_wpm_with_extlinks\n",
    "!hdfs dfs -put /tmp/pages_wpm_with_extlinks pages_wpm_with_extlinks\n",
    "\n",
    "!zcat ~/wiki-citation-usage/data/pages-with-extlinks-2019*.txt.gz > /tmp/pages_w_with_extlinks\n",
    "!hdfs dfs -put /tmp/pages_w_with_extlinks pages_w_with_extlinks\n",
    "\n",
    "!cat ~/wiki-citation-usage/data/wiki_proj_med_categorylinks-2019*.txt > /tmp/projmed_categories\n",
    "!hdfs dfs -put /tmp/projmed_categories projmed_categories\n"
   ]
  },
  {
   "cell_type": "code",
   "execution_count": 3,
   "metadata": {},
   "outputs": [],
   "source": [
    "# create Hive tables from HDFS\n",
    "create = \"\"\"\n",
    "CREATE TABLE IF NOT EXISTS ryanmax.{} {}\n",
    "ROW FORMAT DELIMITED\n",
    "FIELDS TERMINATED BY '\\t'\n",
    "LINES TERMINATED BY '\\n'\n",
    "STORED AS TEXTFILE\n",
    "\"\"\"\n",
    "\n",
    "load = \"\"\"\n",
    "LOAD DATA INPATH '{}' OVERWRITE INTO TABLE ryanmax.{}\n",
    "\"\"\"\n",
    "\n",
    "tables = ['pages_wpm','pages_wpm_with_extlinks', 'pages_w_with_extlinks', 'projmed_categories']\n",
    "for table in tables:\n",
    "    fields = '(page_id bigint, revision_id bigint, page_title String, dt String)'\n",
    "    # pages_w_with_extlinks and projmed_categories need schema adjustments\n",
    "    if 'pages_w_with_extlinks' == table :\n",
    "        fields = '(page_id bigint, revision_id bigint, dt String)'\n",
    "    elif 'projmed_categories' == table:\n",
    "        fields = '(page_id bigint, revision_id bigint, page_title String, category String, dt String)'\n",
    "\n",
    "    sqlContext.sql(create.format(table, fields))\n",
    "    sqlContext.sql(load.format(table,table))"
   ]
  },
  {
   "cell_type": "markdown",
   "metadata": {},
   "source": [
    "### WP:M rate of change between 2019-04-01 and 2019-04-20 data"
   ]
  },
  {
   "cell_type": "code",
   "execution_count": 4,
   "metadata": {},
   "outputs": [
    {
     "name": "stdout",
     "output_type": "stream",
     "text": [
      "Rate of change:  0.00215126463628\n"
     ]
    },
    {
     "data": {
      "text/html": [
       "<div>\n",
       "<table border=\"1\" class=\"dataframe\">\n",
       "  <thead>\n",
       "    <tr style=\"text-align: right;\">\n",
       "      <th></th>\n",
       "      <th>num_pages</th>\n",
       "      <th>extract_date</th>\n",
       "    </tr>\n",
       "  </thead>\n",
       "  <tbody>\n",
       "    <tr>\n",
       "      <th>0</th>\n",
       "      <td>32539</td>\n",
       "      <td>2019-04-01</td>\n",
       "    </tr>\n",
       "    <tr>\n",
       "      <th>1</th>\n",
       "      <td>32609</td>\n",
       "      <td>2019-04-20</td>\n",
       "    </tr>\n",
       "  </tbody>\n",
       "</table>\n",
       "</div>"
      ],
      "text/plain": [
       "   num_pages extract_date\n",
       "0      32539   2019-04-01\n",
       "1      32609   2019-04-20"
      ]
     },
     "execution_count": 4,
     "metadata": {},
     "output_type": "execute_result"
    }
   ],
   "source": [
    "q = \"\"\"\n",
    "SELECT COUNT(DISTINCT page_id) AS num_pages, to_date(dt) as extract_date\n",
    "FROM ryanmax.pages_wpm_with_extlinks\n",
    "WHERE (to_date(dt) = '2019-04-01' OR to_date(dt) = '2019-04-20')\n",
    "GROUP BY extract_date\n",
    "ORDER BY extract_date\n",
    "\"\"\"\n",
    "wpm_pages_with_extlinks = spark.sql(q)\n",
    "wpm_pages_with_extlinks_pd = sqlContext.createDataFrame(wpm_pages_with_extlinks.rdd).toPandas()\n",
    "print('Rate of change: ',(wpm_pages_with_extlinks_pd['num_pages'][1] - wpm_pages_with_extlinks_pd['num_pages'][0])/wpm_pages_with_extlinks_pd['num_pages'][0])\n",
    "wpm_pages_with_extlinks_pd\n"
   ]
  },
  {
   "cell_type": "markdown",
   "metadata": {},
   "source": [
    "### W rate of change between 2019-04-01 and 2019-04-20 data"
   ]
  },
  {
   "cell_type": "code",
   "execution_count": 5,
   "metadata": {},
   "outputs": [
    {
     "name": "stdout",
     "output_type": "stream",
     "text": [
      "Rate of change:  0.0022570761574\n"
     ]
    },
    {
     "data": {
      "text/html": [
       "<div>\n",
       "<table border=\"1\" class=\"dataframe\">\n",
       "  <thead>\n",
       "    <tr style=\"text-align: right;\">\n",
       "      <th></th>\n",
       "      <th>num_pages</th>\n",
       "      <th>extract_date</th>\n",
       "    </tr>\n",
       "  </thead>\n",
       "  <tbody>\n",
       "    <tr>\n",
       "      <th>0</th>\n",
       "      <td>5231547</td>\n",
       "      <td>2019-04-01</td>\n",
       "    </tr>\n",
       "    <tr>\n",
       "      <th>1</th>\n",
       "      <td>5243355</td>\n",
       "      <td>2019-04-20</td>\n",
       "    </tr>\n",
       "  </tbody>\n",
       "</table>\n",
       "</div>"
      ],
      "text/plain": [
       "   num_pages extract_date\n",
       "0    5231547   2019-04-01\n",
       "1    5243355   2019-04-20"
      ]
     },
     "execution_count": 5,
     "metadata": {},
     "output_type": "execute_result"
    }
   ],
   "source": [
    "q = \"\"\"\n",
    "SELECT COUNT(DISTINCT page_id) AS num_pages, to_date(dt) as extract_date\n",
    "FROM ryanmax.pages_w_with_extlinks\n",
    "WHERE (to_date(dt) = '2019-04-01' OR to_date(dt) = '2019-04-20')\n",
    "GROUP BY extract_date\n",
    "ORDER BY extract_date\n",
    "\"\"\"\n",
    "w_pages_with_extlinks = spark.sql(q)\n",
    "w_pages_with_extlinks_pd = sqlContext.createDataFrame(w_pages_with_extlinks.rdd).toPandas()\n",
    "print('Rate of change: ',(w_pages_with_extlinks_pd['num_pages'][1] - w_pages_with_extlinks_pd['num_pages'][0])/w_pages_with_extlinks_pd['num_pages'][0])\n",
    "w_pages_with_extlinks_pd\n"
   ]
  },
  {
   "cell_type": "markdown",
   "metadata": {},
   "source": [
    "## Define WP:M and W subsets using a single day of data: 2019-04-20\n",
    "- using a single day since rates of change are minimal\n",
    "- these two tables `population_w_pages_with_extlinks` and `population_wpm_pages_with_extlinks` will be persisted for use in the rest of the study"
   ]
  },
  {
   "cell_type": "markdown",
   "metadata": {},
   "source": [
    "### WP:M pages with external links"
   ]
  },
  {
   "cell_type": "code",
   "execution_count": 6,
   "metadata": {},
   "outputs": [
    {
     "data": {
      "text/plain": [
       "32609"
      ]
     },
     "execution_count": 6,
     "metadata": {},
     "output_type": "execute_result"
    }
   ],
   "source": [
    "q = \"\"\"\n",
    "SELECT DISTINCT page_id \n",
    "FROM ryanmax.pages_wpm_with_extlinks\n",
    "WHERE to_date(dt) = '2019-04-20'\n",
    "ORDER BY page_id\n",
    "\"\"\"\n",
    "wpm_pages_with_extlinks = spark.sql(q)\n",
    "wpm_pages_with_extlinks.count()\n"
   ]
  },
  {
   "cell_type": "code",
   "execution_count": 7,
   "metadata": {},
   "outputs": [
    {
     "name": "stdout",
     "output_type": "stream",
     "text": [
      "+---------+\n",
      "|WPM_pages|\n",
      "+---------+\n",
      "|    32609|\n",
      "+---------+\n",
      "\n"
     ]
    }
   ],
   "source": [
    "# write data and report out distinct page count\n",
    "wpm_pages_with_extlinks.createOrReplaceTempView(\"temp_wpm_pages_with_extlinks\")\n",
    "sqlContext.sql(\"DROP TABLE IF EXISTS ryanmax.population_wpm_pages_with_extlinks\")\n",
    "sqlContext.sql(\"CREATE TABLE ryanmax.population_wpm_pages_with_extlinks AS SELECT * FROM temp_wpm_pages_with_extlinks\")\n",
    "spark.sql(\"select count(*) as WPM_pages from ryanmax.population_wpm_pages_with_extlinks\").show()"
   ]
  },
  {
   "cell_type": "markdown",
   "metadata": {},
   "source": [
    "### W pages with external links"
   ]
  },
  {
   "cell_type": "code",
   "execution_count": 8,
   "metadata": {},
   "outputs": [
    {
     "data": {
      "text/plain": [
       "5210746"
      ]
     },
     "execution_count": 8,
     "metadata": {},
     "output_type": "execute_result"
    }
   ],
   "source": [
    "q = \"\"\"\n",
    "SELECT DISTINCT page_id FROM ryanmax.pages_w_with_extlinks WHERE to_date(dt) = '2019-04-20'\n",
    "MINUS\n",
    "SELECT DISTINCT page_id FROM ryanmax.population_wpm_pages_with_extlinks\n",
    "ORDER BY page_id\n",
    "\"\"\"\n",
    "w_pages_with_extlinks = spark.sql(q)\n",
    "w_pages_with_extlinks.count()\n"
   ]
  },
  {
   "cell_type": "code",
   "execution_count": 9,
   "metadata": {},
   "outputs": [
    {
     "name": "stdout",
     "output_type": "stream",
     "text": [
      "+-------+\n",
      "|W_pages|\n",
      "+-------+\n",
      "|5210746|\n",
      "+-------+\n",
      "\n"
     ]
    }
   ],
   "source": [
    "# write data and report out distinct page count\n",
    "w_pages_with_extlinks.createOrReplaceTempView(\"temp_w_pages_with_extlinks\")\n",
    "sqlContext.sql(\"DROP TABLE IF EXISTS ryanmax.population_w_pages_with_extlinks\")\n",
    "sqlContext.sql(\"CREATE TABLE ryanmax.population_w_pages_with_extlinks AS SELECT * FROM temp_w_pages_with_extlinks\")\n",
    "spark.sql(\"select count(*) as W_pages from ryanmax.population_w_pages_with_extlinks\").show()"
   ]
  },
  {
   "cell_type": "markdown",
   "metadata": {},
   "source": [
    "### Count of W pages\n",
    "- limited to namespace 0\n",
    "- excludes redirect pages\n",
    "- excludes pages without content\n",
    "- includes pages with and without external links"
   ]
  },
  {
   "cell_type": "code",
   "execution_count": 10,
   "metadata": {},
   "outputs": [
    {
     "name": "stdout",
     "output_type": "stream",
     "text": [
      "+--------+-------+\n",
      "|      dt|  pages|\n",
      "+--------+-------+\n",
      "|20190401|5839083|\n",
      "|20190420|5847824|\n",
      "+--------+-------+\n",
      "\n"
     ]
    }
   ],
   "source": [
    "q = \"\"\"\n",
    "SELECT dt, count(distinct page_id) as pages\n",
    "FROM \n",
    "    ryanmax.page_lengths_w_date\n",
    "GROUP BY dt\n",
    "ORDER BY dt\n",
    "\"\"\"\n",
    "spark.sql(q).show()"
   ]
  },
  {
   "cell_type": "markdown",
   "metadata": {},
   "source": [
    "### Count of WP:M pages\n",
    "- limited to namespace 0\n",
    "- excludes redirect pages\n",
    "- excludes pages without content\n",
    "- includes pages with and without external links"
   ]
  },
  {
   "cell_type": "code",
   "execution_count": 11,
   "metadata": {},
   "outputs": [
    {
     "name": "stdout",
     "output_type": "stream",
     "text": [
      "+--------+-----+\n",
      "|      dt|pages|\n",
      "+--------+-----+\n",
      "|20190401|34325|\n",
      "|20190420|34324|\n",
      "+--------+-----+\n",
      "\n"
     ]
    }
   ],
   "source": [
    "q = \"\"\"\n",
    "SELECT dt, count(distinct page_id) as pages\n",
    "FROM \n",
    "    ryanmax.page_lengths_w_date\n",
    "WHERE page_id IN (SELECT page_id FROM ryanmax.pages_wpm)\n",
    "GROUP BY dt\n",
    "ORDER BY dt\n",
    "\"\"\"\n",
    "spark.sql(q).show()"
   ]
  },
  {
   "cell_type": "code",
   "execution_count": null,
   "metadata": {},
   "outputs": [],
   "source": []
  }
 ],
 "metadata": {
  "kernelspec": {
   "display_name": "PySpark - YARN",
   "language": "python",
   "name": "spark_yarn_pyspark"
  },
  "language_info": {
   "codemirror_mode": {
    "name": "ipython",
    "version": 3
   },
   "file_extension": ".py",
   "mimetype": "text/x-python",
   "name": "python",
   "nbconvert_exporter": "python",
   "pygments_lexer": "ipython3",
   "version": "3.5.3"
  }
 },
 "nbformat": 4,
 "nbformat_minor": 2
}
