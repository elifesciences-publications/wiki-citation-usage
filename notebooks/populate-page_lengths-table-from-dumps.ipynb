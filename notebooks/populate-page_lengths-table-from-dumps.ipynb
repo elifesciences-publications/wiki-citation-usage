{
 "cells": [
  {
   "cell_type": "markdown",
   "metadata": {},
   "source": [
    "# Wikipedia Page Sizes\n",
    "- Report out page character counts from wiki markup in XML dumps\n",
    "- Character counts use pre-rendered, pre-transcluded text, but relative page sizes should serve our study well\n",
    "- populate `page_lengths_w_date` table\n",
    "- report page sizes for W and WP:M for both dump dates"
   ]
  },
  {
   "cell_type": "code",
   "execution_count": 1,
   "metadata": {},
   "outputs": [],
   "source": [
    "# basic defaults, including study dates, common SQL exclusions and parquet files for anonymized data\n",
    "%run -i 'data-defaults.py'"
   ]
  },
  {
   "cell_type": "code",
   "execution_count": 2,
   "metadata": {},
   "outputs": [],
   "source": [
    "WIKIPEDIA_XML_DUMPS = ['enwiki-20190401-pages-articles-multistream.xml.bz2',\n",
    "                       'enwiki-20190420-pages-articles-multistream.xml.bz2']\n",
    "\n",
    "def page_length(entity, date):\n",
    "    page_text = entity.revision.text._VALUE\n",
    "    size = len(page_text)\n",
    "    return Row(page_id=entity.id, page_length=size, dt=date)\n",
    "\n",
    "page_lengths_rdd = sc.emptyRDD()\n",
    "for file in WIKIPEDIA_XML_DUMPS:\n",
    "    wikipedia = sqlContext.read.format('com.databricks.spark.xml').options(rowTag='page').load(file)\n",
    "    dump_date = re.search(r'.*(\\d{8}).*',file).group(1)\n",
    "    articles = wikipedia\\\n",
    "        .filter(\"ns = '0'\")\\\n",
    "        .filter(\"redirect._title is null\") \\\n",
    "        .filter(\"revision.text._VALUE is not null\") \\\n",
    "        .filter(\"length(revision.text._VALUE) > 0\")\n",
    "    daily_page_lengths = sqlContext.createDataFrame(articles.rdd.map(lambda entity: page_length(entity, dump_date)))\n",
    "    page_lengths_rdd = page_lengths_rdd.union(daily_page_lengths.rdd)\n",
    "\n",
    "page_lengths_merged = sqlContext.createDataFrame(page_lengths_rdd)"
   ]
  },
  {
   "cell_type": "code",
   "execution_count": 3,
   "metadata": {},
   "outputs": [],
   "source": [
    "# save page lengths data to a table for later use\n",
    "page_lengths_merged.registerTempTable(\"page_lengths_w_date\")"
   ]
  },
  {
   "cell_type": "markdown",
   "metadata": {},
   "source": [
    "## Number of Wikipedia pages\n",
    "- limited to namespace 0\n",
    "- excludes redirect pages\n",
    "- excludes pages without content"
   ]
  },
  {
   "cell_type": "code",
   "execution_count": 4,
   "metadata": {},
   "outputs": [
    {
     "name": "stdout",
     "output_type": "stream",
     "text": [
      "+--------+-------+\n",
      "|      dt|  pages|\n",
      "+--------+-------+\n",
      "|20190420|5847824|\n",
      "|20190401|5839083|\n",
      "+--------+-------+\n",
      "\n"
     ]
    }
   ],
   "source": [
    "# page count of all pages in Wikipedia namespace 0, excluding redirect pages and pages with no content\n",
    "count_query = \"\"\"\n",
    "SELECT dt, count(*) as pages\n",
    "FROM \n",
    "    page_lengths_w_date\n",
    "GROUP BY dt\n",
    "\"\"\"\n",
    "counts = spark.sql(count_query)\n",
    "counts.show()"
   ]
  },
  {
   "cell_type": "markdown",
   "metadata": {},
   "source": [
    "## Sizes of W pages with external links"
   ]
  },
  {
   "cell_type": "code",
   "execution_count": 5,
   "metadata": {},
   "outputs": [
    {
     "name": "stdout",
     "output_type": "stream",
     "text": [
      "+--------+-------------------+------------------+------------------+---------------+\n",
      "|      dt|average_page_length|median_page_length|stddev_page_length|iqr_page_length|\n",
      "+--------+-------------------+------------------+------------------+---------------+\n",
      "|20190420|            7676.41|            3865.0| 13632.44456286243|         5789.0|\n",
      "|20190401|            7662.35|            3860.0|13599.185396839497|         5779.0|\n",
      "+--------+-------------------+------------------+------------------+---------------+\n",
      "\n"
     ]
    }
   ],
   "source": [
    "# page_lengths of W pages w/ ext links\n",
    "w_pl_query = \"\"\"\n",
    "SELECT dt, CAST(AVG(page_length) AS DECIMAL(10,2)) AS average_page_length, \n",
    "    PERCENTILE(page_length,0.5) AS median_page_length,\n",
    "    STDDEV(page_length) as stddev_page_length,\n",
    "    (PERCENTILE(page_length,0.75) - PERCENTILE(page_length,0.25)) as iqr_page_length\n",
    "FROM \n",
    "    page_lengths_w_date\n",
    "WHERE page_id IN \n",
    "    (SELECT page_id FROM ryanmax.population_w_pages_with_extlinks)\n",
    "GROUP BY dt\n",
    "\"\"\"\n",
    "\n",
    "w_pl_links = spark.sql(w_pl_query)\n",
    "w_pl_links.show()"
   ]
  },
  {
   "cell_type": "markdown",
   "metadata": {},
   "source": [
    "## Sizes of WP:M pages with external links"
   ]
  },
  {
   "cell_type": "code",
   "execution_count": 6,
   "metadata": {},
   "outputs": [
    {
     "name": "stdout",
     "output_type": "stream",
     "text": [
      "+--------+-------------------+------------------+------------------+---------------+\n",
      "|      dt|average_page_length|median_page_length|stddev_page_length|iqr_page_length|\n",
      "+--------+-------------------+------------------+------------------+---------------+\n",
      "|20190420|           13084.95|            6628.0|19378.442855890593|        11640.0|\n",
      "|20190401|           13057.77|            6607.0| 19351.96290494525|        11611.0|\n",
      "+--------+-------------------+------------------+------------------+---------------+\n",
      "\n"
     ]
    }
   ],
   "source": [
    "# page_lengths of WP:M pages w/ ext links\n",
    "pm_pl_query = \"\"\"\n",
    "SELECT dt, CAST(AVG(page_length) AS DECIMAL(10,2)) AS average_page_length, \n",
    "    PERCENTILE(page_length,0.5) AS median_page_length,\n",
    "    STDDEV(page_length) as stddev_page_length,\n",
    "    (PERCENTILE(page_length,0.75) - PERCENTILE(page_length,0.25)) as iqr_page_length\n",
    "FROM \n",
    "    page_lengths_w_date\n",
    "WHERE page_id IN \n",
    "    (SELECT page_id FROM ryanmax.population_wpm_pages_with_extlinks)\n",
    "GROUP BY dt\n",
    "\"\"\"\n",
    "\n",
    "pm_pl_links = spark.sql(pm_pl_query)\n",
    "pm_pl_links.show()\n"
   ]
  },
  {
   "cell_type": "markdown",
   "metadata": {},
   "source": [
    "-------\n",
    "## Statistical analysis\n",
    "\n",
    "Get W page lengths:"
   ]
  },
  {
   "cell_type": "code",
   "execution_count": 7,
   "metadata": {},
   "outputs": [],
   "source": [
    "# Plots inline\n",
    "%matplotlib inline"
   ]
  },
  {
   "cell_type": "code",
   "execution_count": 8,
   "metadata": {},
   "outputs": [
    {
     "data": {
      "text/html": [
       "<div>\n",
       "<table border=\"1\" class=\"dataframe\">\n",
       "  <thead>\n",
       "    <tr style=\"text-align: right;\">\n",
       "      <th></th>\n",
       "      <th>page_id</th>\n",
       "      <th>page_length</th>\n",
       "    </tr>\n",
       "  </thead>\n",
       "  <tbody>\n",
       "    <tr>\n",
       "      <th>0</th>\n",
       "      <td>1677</td>\n",
       "      <td>42747.5</td>\n",
       "    </tr>\n",
       "    <tr>\n",
       "      <th>1</th>\n",
       "      <td>1697</td>\n",
       "      <td>24512.0</td>\n",
       "    </tr>\n",
       "    <tr>\n",
       "      <th>2</th>\n",
       "      <td>1806</td>\n",
       "      <td>162745.5</td>\n",
       "    </tr>\n",
       "  </tbody>\n",
       "</table>\n",
       "</div>"
      ],
      "text/plain": [
       "   page_id  page_length\n",
       "0     1677      42747.5\n",
       "1     1697      24512.0\n",
       "2     1806     162745.5"
      ]
     },
     "execution_count": 8,
     "metadata": {},
     "output_type": "execute_result"
    }
   ],
   "source": [
    "# Page length averages for the 2 samples\n",
    "w_page_length_query = \"\"\"\n",
    "SELECT page_id, AVG(page_length) as page_length\n",
    "FROM \n",
    "    page_lengths_w_date\n",
    "WHERE page_id IN \n",
    "    (SELECT page_id FROM ryanmax.population_w_pages_with_extlinks)\n",
    "GROUP BY page_id\n",
    "\"\"\"\n",
    "\n",
    "w_pl = spark.sql(w_page_length_query).toPandas()\n",
    "w_pl.head(3)"
   ]
  },
  {
   "cell_type": "markdown",
   "metadata": {},
   "source": [
    "Get W:M page lenghts:"
   ]
  },
  {
   "cell_type": "code",
   "execution_count": 9,
   "metadata": {},
   "outputs": [
    {
     "data": {
      "text/html": [
       "<div>\n",
       "<table border=\"1\" class=\"dataframe\">\n",
       "  <thead>\n",
       "    <tr style=\"text-align: right;\">\n",
       "      <th></th>\n",
       "      <th>page_id</th>\n",
       "      <th>page_length</th>\n",
       "    </tr>\n",
       "  </thead>\n",
       "  <tbody>\n",
       "    <tr>\n",
       "      <th>0</th>\n",
       "      <td>30663599</td>\n",
       "      <td>19595.0</td>\n",
       "    </tr>\n",
       "    <tr>\n",
       "      <th>1</th>\n",
       "      <td>31017162</td>\n",
       "      <td>4067.0</td>\n",
       "    </tr>\n",
       "    <tr>\n",
       "      <th>2</th>\n",
       "      <td>31546778</td>\n",
       "      <td>7936.0</td>\n",
       "    </tr>\n",
       "  </tbody>\n",
       "</table>\n",
       "</div>"
      ],
      "text/plain": [
       "    page_id  page_length\n",
       "0  30663599      19595.0\n",
       "1  31017162       4067.0\n",
       "2  31546778       7936.0"
      ]
     },
     "execution_count": 9,
     "metadata": {},
     "output_type": "execute_result"
    }
   ],
   "source": [
    "# Page length averages for the 2 samples\n",
    "wm_page_length_query = \"\"\"\n",
    "SELECT page_id, AVG(page_length) as page_length\n",
    "FROM \n",
    "    page_lengths_w_date\n",
    "WHERE page_id IN \n",
    "    (SELECT page_id FROM ryanmax.population_wpm_pages_with_extlinks)\n",
    "GROUP BY page_id\n",
    "\"\"\"\n",
    "\n",
    "wm_pl = spark.sql(wm_page_length_query).toPandas()\n",
    "wm_pl.head(3)"
   ]
  },
  {
   "cell_type": "markdown",
   "metadata": {},
   "source": [
    "### Check distribution"
   ]
  },
  {
   "cell_type": "markdown",
   "metadata": {},
   "source": [
    "### Visualization in log space"
   ]
  },
  {
   "cell_type": "code",
   "execution_count": 10,
   "metadata": {},
   "outputs": [
    {
     "data": {
      "image/png": "[encoded data removed]",
      "text/plain": [
       "<matplotlib.figure.Figure at 0x7f7fb55d7128>"
      ]
     },
     "metadata": {},
     "output_type": "display_data"
    }
   ],
   "source": [
    "from scipy.stats import binned_statistic\n",
    "\n",
    "def get_normalized_hist(bins, data):\n",
    "    total_elements = len(data)\n",
    "    groups = binned_statistic(data, data, bins = bins, statistic = lambda r: len(r) / total_elements)\n",
    "    bin_centers = pd.Series(groups.bin_edges).rolling(2, 2).mean().dropna()\n",
    "    return bin_centers, groups.statistic\n",
    "\n",
    "bins = np.logspace(2, 6, 40, base=10)\n",
    "w_distribution = get_normalized_hist(bins, w_pl.page_length)\n",
    "wm_distribution = get_normalized_hist(bins, wm_pl.page_length)\n",
    "\n",
    "figure(num=None, figsize=(12, 5), dpi=80, facecolor='w', edgecolor='k')\n",
    "plt.subplot(121)\n",
    "\n",
    "ax = plt.plot(wm_distribution[0], wm_distribution[1], marker='+', label=\"WPM\", color=\"darkorange\", zorder=2)\n",
    "plt.gca().fill_between(wm_distribution[0], wm_distribution[1], color = 'orange', alpha = 0.1)\n",
    "\n",
    "ax = plt.plot(w_distribution[0], w_distribution[1], marker='.', label=\"W\", color=\"steelblue\", zorder=1)\n",
    "plt.gca().fill_between(w_distribution[0], w_distribution[1], color = 'blue', alpha = 0.1)\n",
    "\n",
    "\n",
    "plt.gca().legend(loc=\"upper right\")\n",
    "plt.gca().set_xscale(\"log\", nonposx='clip')\n",
    "\n",
    "\n",
    "plt.title(\"Page length distribution (Normalized Y)\")\n",
    "plt.xlabel(\"Page length (log space - 40 bins)\")\n",
    "plt.ylabel(\"Proportion of articles\")\n",
    "vals = plt.gca().get_yticks()\n",
    "plt.gca().set_yticklabels(['{:,.0%}'.format(x) for x in vals])\n",
    "\n",
    "\n",
    "plt.subplot(122)\n",
    "\n",
    "w_pl['Group'] = \"W\"\n",
    "wm_pl['Group'] = \"WPM\"\n",
    "\n",
    "length_distribution = w_pl.append(wm_pl)\n",
    "my_pal = {\"WPM\": \"darkorange\", \"W\": \"steelblue\"}\n",
    "sns.boxplot(x=\"Group\", y=\"page_length\", data=length_distribution, showfliers=False,\n",
    "            order=[\"WPM\", \"W\"], palette=my_pal)\n",
    "plt.ylabel(\"Page length\")\n",
    "plt.title(\"Page length distribution\")\n",
    "\n",
    "plt.savefig(\"length_distribution.pdf\")"
   ]
  },
  {
   "cell_type": "code",
   "execution_count": 11,
   "metadata": {},
   "outputs": [
    {
     "data": {
      "image/png": "[encoded data removed]",
      "text/plain": [
       "<matplotlib.figure.Figure at 0x7f7f9ac0a048>"
      ]
     },
     "metadata": {},
     "output_type": "display_data"
    }
   ],
   "source": [
    "figure(num=None, figsize=(6, 5), dpi=80, facecolor='w', edgecolor='k')\n",
    "plt.subplot(111)\n",
    "\n",
    "ax = plt.plot(wm_distribution[0], wm_distribution[1], marker='+', label=\"WPM\", color=\"darkorange\", zorder=2)\n",
    "plt.gca().fill_between(wm_distribution[0], wm_distribution[1], color = 'orange', alpha = 0.1)\n",
    "\n",
    "ax = plt.plot(w_distribution[0], w_distribution[1], marker='.', label=\"W\", color=\"steelblue\", zorder=1)\n",
    "plt.gca().fill_between(w_distribution[0], w_distribution[1], color = 'blue', alpha = 0.1)\n",
    "\n",
    "\n",
    "plt.gca().legend(loc=\"upper right\")\n",
    "plt.gca().set_xscale(\"log\", nonposx='clip')\n",
    "\n",
    "\n",
    "plt.title(\"Page length distribution (Normalized Y)\")\n",
    "plt.xlabel(\"Page length (log space - 40 bins)\")\n",
    "plt.ylabel(\"Proportion of articles\")\n",
    "vals = plt.gca().get_yticks()\n",
    "plt.gca().set_yticklabels(['{:,.0%}'.format(x) for x in vals])\n",
    "\n",
    "plt.savefig(\"length_distribution_only_hist.pdf\")"
   ]
  },
  {
   "cell_type": "markdown",
   "metadata": {},
   "source": [
    "### Normality test"
   ]
  },
  {
   "cell_type": "code",
   "execution_count": 12,
   "metadata": {},
   "outputs": [
    {
     "name": "stdout",
     "output_type": "stream",
     "text": [
      "Normal Test WPM\n",
      "The null hypothesis can be rejected. p < 0.001\n",
      "\n",
      "Normal Test W\n",
      "The null hypothesis can be rejected. p < 0.001\n",
      "\n",
      "Normal Test WPM LOG\n",
      "The null hypothesis can be rejected. p < 0.001\n",
      "\n",
      "Normal Test W LOG\n",
      "The null hypothesis can be rejected. p < 0.001\n"
     ]
    }
   ],
   "source": [
    "from scipy import stats\n",
    "import math\n",
    "\n",
    "def test_normality(data):  \n",
    "    k2, p = stats.normaltest(data)\n",
    "    alpha = 1e-3\n",
    "    if p < alpha:  # null hypothesis: x comes from a normal distribution\n",
    "        print(\"The null hypothesis can be rejected. p < {:g}\".format(alpha))\n",
    "    else:\n",
    "        print(\"The null hypothesis cannot be rejected. p = {:g}\".format(p))\n",
    "\n",
    "print(\"Normal Test WPM\")\n",
    "test_normality(wm_pl.page_length)\n",
    "\n",
    "print(\"\\nNormal Test W\")\n",
    "test_normality(w_pl.page_length)\n",
    "\n",
    "print(\"\\nNormal Test WPM LOG\")\n",
    "test_normality(wm_pl.page_length.apply(lambda r: math.log(r)))\n",
    "\n",
    "print(\"\\nNormal Test W LOG\")\n",
    "test_normality(w_pl.page_length.apply(lambda r: math.log(r)))"
   ]
  },
  {
   "cell_type": "markdown",
   "metadata": {},
   "source": [
    "### Mann Whitney U Test\n",
    "\n",
    "https://en.wikipedia.org/wiki/Mann%E2%80%93Whitney_U_test"
   ]
  },
  {
   "cell_type": "code",
   "execution_count": 13,
   "metadata": {},
   "outputs": [
    {
     "name": "stdout",
     "output_type": "stream",
     "text": [
      "Statistics=62209662561.000, p < 0.001\n",
      "Different distribution (reject H0)\n"
     ]
    }
   ],
   "source": [
    "from scipy.stats import mannwhitneyu\n",
    "\n",
    "# compare samples\n",
    "stat, p = mannwhitneyu(w_pl.page_length, wm_pl.page_length, alternative=\"two-sided\")\n",
    "alpha = 0.001\n",
    "if p < alpha:\n",
    "    print('Statistics=%.3f, p < %.3f' % (stat, alpha))\n",
    "else:\n",
    "    print('Statistics=%.3f, p = %.3f' % (stat, p))\n",
    "# interpret\n",
    "if p > alpha:\n",
    "    print('Same distribution (fail to reject H0)')\n",
    "else:\n",
    "    print('Different distribution (reject H0)')"
   ]
  },
  {
   "cell_type": "code",
   "execution_count": 14,
   "metadata": {},
   "outputs": [
    {
     "name": "stdout",
     "output_type": "stream",
     "text": [
      "WPM sample size = 32602\n",
      "W sample size = 5209420\n"
     ]
    }
   ],
   "source": [
    "print(\"WPM sample size = {}\".format(len(wm_pl)))\n",
    "print(\"W sample size = {}\".format(len(w_pl)))"
   ]
  },
  {
   "cell_type": "markdown",
   "metadata": {},
   "source": [
    "### Validation: Check if the distribution of W:M for the 2 dates is the same"
   ]
  },
  {
   "cell_type": "code",
   "execution_count": 15,
   "metadata": {},
   "outputs": [],
   "source": [
    "page_lengths_merged.registerTempTable(\"page_lengths_merged\")\n",
    "\n",
    "# Page length averages for the 2 samples\n",
    "wm_page_length_query = \"\"\"\n",
    "SELECT dt, page_id, page_length\n",
    "FROM \n",
    "    page_lengths_merged\n",
    "WHERE page_id IN \n",
    "    (SELECT page_id FROM ryanmax.population_wpm_pages_with_extlinks)\n",
    "\"\"\"\n",
    "\n",
    "wm_pl_by_date = spark.sql(wm_page_length_query).toPandas()"
   ]
  },
  {
   "cell_type": "code",
   "execution_count": 16,
   "metadata": {},
   "outputs": [
    {
     "name": "stdout",
     "output_type": "stream",
     "text": [
      "Statistics=530052889.500, p = 0.384\n",
      "Same distribution (fail to reject H0)\n"
     ]
    }
   ],
   "source": [
    "stat, p = mannwhitneyu(wm_pl_by_date[wm_pl_by_date.dt=='20190420'].page_length, \n",
    "                       wm_pl_by_date[wm_pl_by_date.dt=='20190401'].page_length)\n",
    "alpha = 0.001\n",
    "if p < alpha:\n",
    "    print('Statistics=%.3f, p < %.3f' % (stat, alpha))\n",
    "else:\n",
    "    print('Statistics=%.3f, p = %.3f' % (stat, p))\n",
    "# interpret\n",
    "if p > alpha:\n",
    "    print('Same distribution (fail to reject H0)')\n",
    "else:\n",
    "    print('Different distribution (reject H0)')"
   ]
  },
  {
   "cell_type": "code",
   "execution_count": null,
   "metadata": {},
   "outputs": [],
   "source": []
  }
 ],
 "metadata": {
  "kernelspec": {
   "display_name": "PySpark Custom 50 Executors",
   "language": "python",
   "name": "spark_yarn_50exec"
  },
  "language_info": {
   "codemirror_mode": {
    "name": "ipython",
    "version": 3
   },
   "file_extension": ".py",
   "mimetype": "text/x-python",
   "name": "python",
   "nbconvert_exporter": "python",
   "pygments_lexer": "ipython3",
   "version": "3.5.3"
  }
 },
 "nbformat": 4,
 "nbformat_minor": 2
}
